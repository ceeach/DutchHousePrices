{
 "cells": [
  {
   "cell_type": "code",
   "execution_count": 1,
   "metadata": {},
   "outputs": [],
   "source": [
    "import pandas as pd"
   ]
  },
  {
   "cell_type": "code",
   "execution_count": 2,
   "metadata": {},
   "outputs": [],
   "source": [
    "df = pd.read_csv('DutchHousePrices.csv')"
   ]
  },
  {
   "cell_type": "code",
   "execution_count": 3,
   "metadata": {},
   "outputs": [
    {
     "data": {
      "text/html": [
       "<div>\n",
       "<style scoped>\n",
       "    .dataframe tbody tr th:only-of-type {\n",
       "        vertical-align: middle;\n",
       "    }\n",
       "\n",
       "    .dataframe tbody tr th {\n",
       "        vertical-align: top;\n",
       "    }\n",
       "\n",
       "    .dataframe thead th {\n",
       "        text-align: right;\n",
       "    }\n",
       "</style>\n",
       "<table border=\"1\" class=\"dataframe\">\n",
       "  <thead>\n",
       "    <tr style=\"text-align: right;\">\n",
       "      <th></th>\n",
       "      <th>Address</th>\n",
       "      <th>City</th>\n",
       "      <th>Price</th>\n",
       "      <th>Lot size (m2)</th>\n",
       "      <th>Living space size (m2)</th>\n",
       "      <th>Build year</th>\n",
       "      <th>Build type</th>\n",
       "      <th>House type</th>\n",
       "      <th>Roof</th>\n",
       "      <th>Rooms</th>\n",
       "      <th>Toilet</th>\n",
       "      <th>Floors</th>\n",
       "      <th>Energy label</th>\n",
       "      <th>Position</th>\n",
       "      <th>Garden</th>\n",
       "      <th>Estimated neighbourhood price per m2</th>\n",
       "    </tr>\n",
       "  </thead>\n",
       "  <tbody>\n",
       "    <tr>\n",
       "      <th>0</th>\n",
       "      <td>Bovenweg 223</td>\n",
       "      <td>Sint Pancras</td>\n",
       "      <td>€ 525.000</td>\n",
       "      <td>251 m²</td>\n",
       "      <td>135 m²</td>\n",
       "      <td>1972</td>\n",
       "      <td>Bestaande bouw</td>\n",
       "      <td>Eengezinswoning, 2-onder-1-kapwoning</td>\n",
       "      <td>Zadeldak bedekt met pannen</td>\n",
       "      <td>5 kamers (4 slaapkamers)</td>\n",
       "      <td>1 badkamer en 1 apart toilet</td>\n",
       "      <td>3 woonlagen</td>\n",
       "      <td>D</td>\n",
       "      <td>NaN</td>\n",
       "      <td>Achtertuin, voortuin en zijtuin</td>\n",
       "      <td>6.035</td>\n",
       "    </tr>\n",
       "    <tr>\n",
       "      <th>1</th>\n",
       "      <td>Julianastraat 19</td>\n",
       "      <td>Waddinxveen</td>\n",
       "      <td>€ 425.000</td>\n",
       "      <td>181 m²</td>\n",
       "      <td>109 m²</td>\n",
       "      <td>1935</td>\n",
       "      <td>Bestaande bouw</td>\n",
       "      <td>Herenhuis, geschakelde 2-onder-1-kapwoning</td>\n",
       "      <td>Schilddak bedekt met bitumineuze dakbedekking ...</td>\n",
       "      <td>4 kamers (3 slaapkamers)</td>\n",
       "      <td>1 badkamer en 1 apart toilet</td>\n",
       "      <td>3 woonlagen</td>\n",
       "      <td>E</td>\n",
       "      <td>Aan rustige weg en in woonwijk</td>\n",
       "      <td>Achtertuin en voortuin</td>\n",
       "      <td>1.435</td>\n",
       "    </tr>\n",
       "    <tr>\n",
       "      <th>2</th>\n",
       "      <td>Kuipersgilde 3</td>\n",
       "      <td>Houten</td>\n",
       "      <td>€ 575.000</td>\n",
       "      <td>198 m²</td>\n",
       "      <td>138 m²</td>\n",
       "      <td>1986</td>\n",
       "      <td>Bestaande bouw</td>\n",
       "      <td>Eengezinswoning, 2-onder-1-kapwoning</td>\n",
       "      <td>Zadeldak bedekt met pannen</td>\n",
       "      <td>5 kamers (4 slaapkamers)</td>\n",
       "      <td>1 badkamer en 1 apart toilet</td>\n",
       "      <td>3 woonlagen</td>\n",
       "      <td>B</td>\n",
       "      <td>Aan rustige weg en in woonwijk</td>\n",
       "      <td>Achtertuin</td>\n",
       "      <td>1.855</td>\n",
       "    </tr>\n",
       "    <tr>\n",
       "      <th>3</th>\n",
       "      <td>De Kamp 1 A</td>\n",
       "      <td>Pannerden</td>\n",
       "      <td>€ 259.500</td>\n",
       "      <td>231 m²</td>\n",
       "      <td>92 m²</td>\n",
       "      <td>1989</td>\n",
       "      <td>Bestaande bouw</td>\n",
       "      <td>Eengezinswoning, 2-onder-1-kapwoning</td>\n",
       "      <td>Zadeldak bedekt met pannen</td>\n",
       "      <td>5 kamers (3 slaapkamers)</td>\n",
       "      <td>1 badkamer en 2 aparte toiletten</td>\n",
       "      <td>3 woonlagen</td>\n",
       "      <td>B</td>\n",
       "      <td>Aan rustige weg en in woonwijk</td>\n",
       "      <td>Achtertuin, voortuin en zijtuin</td>\n",
       "      <td>2.19</td>\n",
       "    </tr>\n",
       "    <tr>\n",
       "      <th>4</th>\n",
       "      <td>Wildrijklaan 8</td>\n",
       "      <td>Sassenheim</td>\n",
       "      <td>€ 1.050.000</td>\n",
       "      <td>423 m²</td>\n",
       "      <td>210 m²</td>\n",
       "      <td>2000</td>\n",
       "      <td>Bestaande bouw</td>\n",
       "      <td>Eengezinswoning, 2-onder-1-kapwoning</td>\n",
       "      <td>Schilddak bedekt met pannen</td>\n",
       "      <td>6 kamers (5 slaapkamers)</td>\n",
       "      <td>2 badkamers en 2 aparte toiletten</td>\n",
       "      <td>4 woonlagen en een kelder</td>\n",
       "      <td>A</td>\n",
       "      <td>Aan rustige weg, aan water, beschutte ligging,...</td>\n",
       "      <td>Achtertuin, voortuin en zijtuin</td>\n",
       "      <td>1.34</td>\n",
       "    </tr>\n",
       "  </tbody>\n",
       "</table>\n",
       "</div>"
      ],
      "text/plain": [
       "            Address          City        Price Lot size (m2)   \n",
       "0      Bovenweg 223  Sint Pancras    € 525.000        251 m²  \\\n",
       "1  Julianastraat 19   Waddinxveen    € 425.000        181 m²   \n",
       "2    Kuipersgilde 3        Houten    € 575.000        198 m²   \n",
       "3       De Kamp 1 A     Pannerden    € 259.500        231 m²   \n",
       "4    Wildrijklaan 8    Sassenheim  € 1.050.000        423 m²   \n",
       "\n",
       "  Living space size (m2) Build year      Build type   \n",
       "0                 135 m²       1972  Bestaande bouw  \\\n",
       "1                 109 m²       1935  Bestaande bouw   \n",
       "2                 138 m²       1986  Bestaande bouw   \n",
       "3                  92 m²       1989  Bestaande bouw   \n",
       "4                 210 m²       2000  Bestaande bouw   \n",
       "\n",
       "                                   House type   \n",
       "0        Eengezinswoning, 2-onder-1-kapwoning  \\\n",
       "1  Herenhuis, geschakelde 2-onder-1-kapwoning   \n",
       "2        Eengezinswoning, 2-onder-1-kapwoning   \n",
       "3        Eengezinswoning, 2-onder-1-kapwoning   \n",
       "4        Eengezinswoning, 2-onder-1-kapwoning   \n",
       "\n",
       "                                                Roof   \n",
       "0                         Zadeldak bedekt met pannen  \\\n",
       "1  Schilddak bedekt met bitumineuze dakbedekking ...   \n",
       "2                         Zadeldak bedekt met pannen   \n",
       "3                         Zadeldak bedekt met pannen   \n",
       "4                        Schilddak bedekt met pannen   \n",
       "\n",
       "                      Rooms                             Toilet   \n",
       "0  5 kamers (4 slaapkamers)       1 badkamer en 1 apart toilet  \\\n",
       "1  4 kamers (3 slaapkamers)       1 badkamer en 1 apart toilet   \n",
       "2  5 kamers (4 slaapkamers)       1 badkamer en 1 apart toilet   \n",
       "3  5 kamers (3 slaapkamers)   1 badkamer en 2 aparte toiletten   \n",
       "4  6 kamers (5 slaapkamers)  2 badkamers en 2 aparte toiletten   \n",
       "\n",
       "                      Floors Energy label   \n",
       "0                3 woonlagen            D  \\\n",
       "1                3 woonlagen            E   \n",
       "2                3 woonlagen            B   \n",
       "3                3 woonlagen            B   \n",
       "4  4 woonlagen en een kelder            A   \n",
       "\n",
       "                                            Position   \n",
       "0                                                NaN  \\\n",
       "1                     Aan rustige weg en in woonwijk   \n",
       "2                     Aan rustige weg en in woonwijk   \n",
       "3                     Aan rustige weg en in woonwijk   \n",
       "4  Aan rustige weg, aan water, beschutte ligging,...   \n",
       "\n",
       "                            Garden Estimated neighbourhood price per m2  \n",
       "0  Achtertuin, voortuin en zijtuin                                6.035  \n",
       "1           Achtertuin en voortuin                                1.435  \n",
       "2                       Achtertuin                                1.855  \n",
       "3  Achtertuin, voortuin en zijtuin                                 2.19  \n",
       "4  Achtertuin, voortuin en zijtuin                                 1.34  "
      ]
     },
     "execution_count": 3,
     "metadata": {},
     "output_type": "execute_result"
    }
   ],
   "source": [
    "df.head()"
   ]
  },
  {
   "cell_type": "code",
   "execution_count": 4,
   "metadata": {},
   "outputs": [
    {
     "data": {
      "text/plain": [
       "Index(['Address', 'City', 'Price', 'Lot size (m2)', 'Living space size (m2)',\n",
       "       'Build year', 'Build type', 'House type', 'Roof', 'Rooms', 'Toilet',\n",
       "       'Floors', 'Energy label', 'Position', 'Garden',\n",
       "       'Estimated neighbourhood price per m2'],\n",
       "      dtype='object')"
      ]
     },
     "execution_count": 4,
     "metadata": {},
     "output_type": "execute_result"
    }
   ],
   "source": [
    "newdf = df.copy()\n",
    "newdf.columns"
   ]
  },
  {
   "cell_type": "code",
   "execution_count": 5,
   "metadata": {},
   "outputs": [
    {
     "data": {
      "text/plain": [
       "Index(['Address', 'City', 'Price', 'LotSize', 'LivingSpace', 'Build year',\n",
       "       'Build type', 'House type', 'Roof', 'Rooms', 'Toilet', 'Floors',\n",
       "       'Energy label', 'Position', 'Garden', 'EstStreetPrice'],\n",
       "      dtype='object')"
      ]
     },
     "execution_count": 5,
     "metadata": {},
     "output_type": "execute_result"
    }
   ],
   "source": [
    "newdf.rename(columns = {'Lot size (m2)':'LotSize','Living space size (m2)':'LivingSpace','Estimated neighbourhood price per m2':'EstStreetPrice'}, inplace = True)\n",
    "newdf.columns"
   ]
  },
  {
   "cell_type": "code",
   "execution_count": 13,
   "metadata": {},
   "outputs": [
    {
     "data": {
      "text/plain": [
       "array(['3 woonlagen', '4 woonlagen en een kelder',\n",
       "       '2 woonlagen en een vliering', '2 woonlagen',\n",
       "       '2 woonlagen en een zolder', '3 woonlagen en een vliering',\n",
       "       '3 woonlagen en een kelder', '2 woonlagen en een kelder',\n",
       "       '1 woonlaag', '4 woonlagen', '1 woonlaag en een zolder',\n",
       "       '2 woonlagen, een zolder en een kelder',\n",
       "       '3 woonlagen en een zolder',\n",
       "       '3 woonlagen, een zolder en een kelder',\n",
       "       '2 woonlagen, een vliering en een kelder',\n",
       "       '2 woonlagen en een zolder met vliering',\n",
       "       '1 woonlaag en een kelder',\n",
       "       '1 woonlaag, een vliering en een kelder',\n",
       "       '2 woonlagen, een zolder met vliering en een kelder',\n",
       "       '3 woonlagen, een vliering en een kelder', '5 woonlagen',\n",
       "       '5 woonlagen en een kelder',\n",
       "       '4 woonlagen, een zolder en een kelder',\n",
       "       '1 woonlaag, een zolder en een kelder',\n",
       "       '4 woonlagen en een zolder', '4 woonlagen en een vliering',\n",
       "       '4 woonlagen, een vliering en een kelder',\n",
       "       '1 woonlaag en een vliering',\n",
       "       '1 woonlaag en een zolder met vliering', '6 woonlagen',\n",
       "       '5 woonlagen, een vliering en een kelder'], dtype=object)"
      ]
     },
     "execution_count": 13,
     "metadata": {},
     "output_type": "execute_result"
    }
   ],
   "source": [
    "newdf['Basement']=0\n",
    "FloorValues = newdf['Floors'].unique()\n",
    "FloorValues"
   ]
  },
  {
   "cell_type": "code",
   "execution_count": 15,
   "metadata": {},
   "outputs": [
    {
     "name": "stdout",
     "output_type": "stream",
     "text": [
      "['5', 'vliering', 'woonlagen', 'woonlaag,', 'zolder', '4', 'een', '1', 'met', 'kelder', 'en', '6', 'woonlagen,', '3', 'woonlaag', '2']\n"
     ]
    }
   ],
   "source": [
    "#df = pd.DataFrame({'a': ['1 hello', '2 hello', '2 World', '4 World']})\n",
    "\n",
    "unique_values_Floors = newdf['Floors'].unique()\n",
    "all_words_Floors = []\n",
    "\n",
    "for value in unique_values_Floors:\n",
    "    words = value.split(' ')\n",
    "    for word in words:\n",
    "        all_words_Floors.append(word)\n",
    "\n",
    "unique_words_Floors = list(set(all_words_Floors))\n",
    "\n",
    "print(unique_words_Floors)"
   ]
  },
  {
   "attachments": {},
   "cell_type": "markdown",
   "metadata": {},
   "source": [
    "vliering: loft<br>\n",
    "woonlaag/woonlagen: floor/floors<br>\n",
    "zolder: attic<br>\n",
    "kelder: basement<br>"
   ]
  },
  {
   "cell_type": "code",
   "execution_count": null,
   "metadata": {},
   "outputs": [],
   "source": [
    "#newdf['Price'] = newdf['Price'].str.extract(\"([-+]?\\d*\\.\\d+|[-+]?\\d+)\")"
   ]
  },
  {
   "cell_type": "code",
   "execution_count": null,
   "metadata": {},
   "outputs": [],
   "source": []
  }
 ],
 "metadata": {
  "kernelspec": {
   "display_name": "Python 3",
   "language": "python",
   "name": "python3"
  },
  "language_info": {
   "codemirror_mode": {
    "name": "ipython",
    "version": 3
   },
   "file_extension": ".py",
   "mimetype": "text/x-python",
   "name": "python",
   "nbconvert_exporter": "python",
   "pygments_lexer": "ipython3",
   "version": "3.11.3"
  },
  "orig_nbformat": 4
 },
 "nbformat": 4,
 "nbformat_minor": 2
}
