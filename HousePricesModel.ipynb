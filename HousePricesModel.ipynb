{
 "cells": [
  {
   "cell_type": "code",
   "execution_count": 1,
   "metadata": {},
   "outputs": [],
   "source": [
    "import pandas as pd\n",
    "import numpy as np"
   ]
  },
  {
   "cell_type": "code",
   "execution_count": 2,
   "metadata": {},
   "outputs": [
    {
     "name": "stdout",
     "output_type": "stream",
     "text": [
      "<class 'pandas.core.frame.DataFrame'>\n",
      "RangeIndex: 5555 entries, 0 to 5554\n",
      "Data columns (total 16 columns):\n",
      " #   Column                                Non-Null Count  Dtype \n",
      "---  ------                                --------------  ----- \n",
      " 0   Address                               5555 non-null   object\n",
      " 1   City                                  5555 non-null   object\n",
      " 2   Price                                 5555 non-null   object\n",
      " 3   Lot size (m2)                         5555 non-null   object\n",
      " 4   Living space size (m2)                5555 non-null   object\n",
      " 5   Build year                            5471 non-null   object\n",
      " 6   Build type                            5555 non-null   object\n",
      " 7   House type                            5555 non-null   object\n",
      " 8   Roof                                  5555 non-null   object\n",
      " 9   Rooms                                 5555 non-null   object\n",
      " 10  Toilet                                5555 non-null   object\n",
      " 11  Floors                                5555 non-null   object\n",
      " 12  Energy label                          5555 non-null   object\n",
      " 13  Position                              5251 non-null   object\n",
      " 14  Garden                                5497 non-null   object\n",
      " 15  Estimated neighbourhood price per m2  5386 non-null   object\n",
      "dtypes: object(16)\n",
      "memory usage: 694.5+ KB\n"
     ]
    }
   ],
   "source": [
    "df = pd.read_csv('DutchHousePrices.csv')\n",
    "df.info()"
   ]
  },
  {
   "cell_type": "code",
   "execution_count": 3,
   "metadata": {},
   "outputs": [
    {
     "data": {
      "text/html": [
       "<div>\n",
       "<style scoped>\n",
       "    .dataframe tbody tr th:only-of-type {\n",
       "        vertical-align: middle;\n",
       "    }\n",
       "\n",
       "    .dataframe tbody tr th {\n",
       "        vertical-align: top;\n",
       "    }\n",
       "\n",
       "    .dataframe thead th {\n",
       "        text-align: right;\n",
       "    }\n",
       "</style>\n",
       "<table border=\"1\" class=\"dataframe\">\n",
       "  <thead>\n",
       "    <tr style=\"text-align: right;\">\n",
       "      <th></th>\n",
       "      <th>Address</th>\n",
       "      <th>City</th>\n",
       "      <th>Price</th>\n",
       "      <th>Lot size (m2)</th>\n",
       "      <th>Living space size (m2)</th>\n",
       "      <th>Build year</th>\n",
       "      <th>Build type</th>\n",
       "      <th>House type</th>\n",
       "      <th>Roof</th>\n",
       "      <th>Rooms</th>\n",
       "      <th>Toilet</th>\n",
       "      <th>Floors</th>\n",
       "      <th>Energy label</th>\n",
       "      <th>Position</th>\n",
       "      <th>Garden</th>\n",
       "      <th>Estimated neighbourhood price per m2</th>\n",
       "    </tr>\n",
       "  </thead>\n",
       "  <tbody>\n",
       "    <tr>\n",
       "      <th>0</th>\n",
       "      <td>Bovenweg 223</td>\n",
       "      <td>Sint Pancras</td>\n",
       "      <td>€ 525.000</td>\n",
       "      <td>251 m²</td>\n",
       "      <td>135 m²</td>\n",
       "      <td>1972</td>\n",
       "      <td>Bestaande bouw</td>\n",
       "      <td>Eengezinswoning, 2-onder-1-kapwoning</td>\n",
       "      <td>Zadeldak bedekt met pannen</td>\n",
       "      <td>5 kamers (4 slaapkamers)</td>\n",
       "      <td>1 badkamer en 1 apart toilet</td>\n",
       "      <td>3 woonlagen</td>\n",
       "      <td>D</td>\n",
       "      <td>NaN</td>\n",
       "      <td>Achtertuin, voortuin en zijtuin</td>\n",
       "      <td>6.035</td>\n",
       "    </tr>\n",
       "    <tr>\n",
       "      <th>1</th>\n",
       "      <td>Julianastraat 19</td>\n",
       "      <td>Waddinxveen</td>\n",
       "      <td>€ 425.000</td>\n",
       "      <td>181 m²</td>\n",
       "      <td>109 m²</td>\n",
       "      <td>1935</td>\n",
       "      <td>Bestaande bouw</td>\n",
       "      <td>Herenhuis, geschakelde 2-onder-1-kapwoning</td>\n",
       "      <td>Schilddak bedekt met bitumineuze dakbedekking ...</td>\n",
       "      <td>4 kamers (3 slaapkamers)</td>\n",
       "      <td>1 badkamer en 1 apart toilet</td>\n",
       "      <td>3 woonlagen</td>\n",
       "      <td>E</td>\n",
       "      <td>Aan rustige weg en in woonwijk</td>\n",
       "      <td>Achtertuin en voortuin</td>\n",
       "      <td>1.435</td>\n",
       "    </tr>\n",
       "    <tr>\n",
       "      <th>2</th>\n",
       "      <td>Kuipersgilde 3</td>\n",
       "      <td>Houten</td>\n",
       "      <td>€ 575.000</td>\n",
       "      <td>198 m²</td>\n",
       "      <td>138 m²</td>\n",
       "      <td>1986</td>\n",
       "      <td>Bestaande bouw</td>\n",
       "      <td>Eengezinswoning, 2-onder-1-kapwoning</td>\n",
       "      <td>Zadeldak bedekt met pannen</td>\n",
       "      <td>5 kamers (4 slaapkamers)</td>\n",
       "      <td>1 badkamer en 1 apart toilet</td>\n",
       "      <td>3 woonlagen</td>\n",
       "      <td>B</td>\n",
       "      <td>Aan rustige weg en in woonwijk</td>\n",
       "      <td>Achtertuin</td>\n",
       "      <td>1.855</td>\n",
       "    </tr>\n",
       "    <tr>\n",
       "      <th>3</th>\n",
       "      <td>De Kamp 1 A</td>\n",
       "      <td>Pannerden</td>\n",
       "      <td>€ 259.500</td>\n",
       "      <td>231 m²</td>\n",
       "      <td>92 m²</td>\n",
       "      <td>1989</td>\n",
       "      <td>Bestaande bouw</td>\n",
       "      <td>Eengezinswoning, 2-onder-1-kapwoning</td>\n",
       "      <td>Zadeldak bedekt met pannen</td>\n",
       "      <td>5 kamers (3 slaapkamers)</td>\n",
       "      <td>1 badkamer en 2 aparte toiletten</td>\n",
       "      <td>3 woonlagen</td>\n",
       "      <td>B</td>\n",
       "      <td>Aan rustige weg en in woonwijk</td>\n",
       "      <td>Achtertuin, voortuin en zijtuin</td>\n",
       "      <td>2.19</td>\n",
       "    </tr>\n",
       "    <tr>\n",
       "      <th>4</th>\n",
       "      <td>Wildrijklaan 8</td>\n",
       "      <td>Sassenheim</td>\n",
       "      <td>€ 1.050.000</td>\n",
       "      <td>423 m²</td>\n",
       "      <td>210 m²</td>\n",
       "      <td>2000</td>\n",
       "      <td>Bestaande bouw</td>\n",
       "      <td>Eengezinswoning, 2-onder-1-kapwoning</td>\n",
       "      <td>Schilddak bedekt met pannen</td>\n",
       "      <td>6 kamers (5 slaapkamers)</td>\n",
       "      <td>2 badkamers en 2 aparte toiletten</td>\n",
       "      <td>4 woonlagen en een kelder</td>\n",
       "      <td>A</td>\n",
       "      <td>Aan rustige weg, aan water, beschutte ligging,...</td>\n",
       "      <td>Achtertuin, voortuin en zijtuin</td>\n",
       "      <td>1.34</td>\n",
       "    </tr>\n",
       "  </tbody>\n",
       "</table>\n",
       "</div>"
      ],
      "text/plain": [
       "            Address          City        Price Lot size (m2)   \n",
       "0      Bovenweg 223  Sint Pancras    € 525.000        251 m²  \\\n",
       "1  Julianastraat 19   Waddinxveen    € 425.000        181 m²   \n",
       "2    Kuipersgilde 3        Houten    € 575.000        198 m²   \n",
       "3       De Kamp 1 A     Pannerden    € 259.500        231 m²   \n",
       "4    Wildrijklaan 8    Sassenheim  € 1.050.000        423 m²   \n",
       "\n",
       "  Living space size (m2) Build year      Build type   \n",
       "0                 135 m²       1972  Bestaande bouw  \\\n",
       "1                 109 m²       1935  Bestaande bouw   \n",
       "2                 138 m²       1986  Bestaande bouw   \n",
       "3                  92 m²       1989  Bestaande bouw   \n",
       "4                 210 m²       2000  Bestaande bouw   \n",
       "\n",
       "                                   House type   \n",
       "0        Eengezinswoning, 2-onder-1-kapwoning  \\\n",
       "1  Herenhuis, geschakelde 2-onder-1-kapwoning   \n",
       "2        Eengezinswoning, 2-onder-1-kapwoning   \n",
       "3        Eengezinswoning, 2-onder-1-kapwoning   \n",
       "4        Eengezinswoning, 2-onder-1-kapwoning   \n",
       "\n",
       "                                                Roof   \n",
       "0                         Zadeldak bedekt met pannen  \\\n",
       "1  Schilddak bedekt met bitumineuze dakbedekking ...   \n",
       "2                         Zadeldak bedekt met pannen   \n",
       "3                         Zadeldak bedekt met pannen   \n",
       "4                        Schilddak bedekt met pannen   \n",
       "\n",
       "                      Rooms                             Toilet   \n",
       "0  5 kamers (4 slaapkamers)       1 badkamer en 1 apart toilet  \\\n",
       "1  4 kamers (3 slaapkamers)       1 badkamer en 1 apart toilet   \n",
       "2  5 kamers (4 slaapkamers)       1 badkamer en 1 apart toilet   \n",
       "3  5 kamers (3 slaapkamers)   1 badkamer en 2 aparte toiletten   \n",
       "4  6 kamers (5 slaapkamers)  2 badkamers en 2 aparte toiletten   \n",
       "\n",
       "                      Floors Energy label   \n",
       "0                3 woonlagen            D  \\\n",
       "1                3 woonlagen            E   \n",
       "2                3 woonlagen            B   \n",
       "3                3 woonlagen            B   \n",
       "4  4 woonlagen en een kelder            A   \n",
       "\n",
       "                                            Position   \n",
       "0                                                NaN  \\\n",
       "1                     Aan rustige weg en in woonwijk   \n",
       "2                     Aan rustige weg en in woonwijk   \n",
       "3                     Aan rustige weg en in woonwijk   \n",
       "4  Aan rustige weg, aan water, beschutte ligging,...   \n",
       "\n",
       "                            Garden Estimated neighbourhood price per m2  \n",
       "0  Achtertuin, voortuin en zijtuin                                6.035  \n",
       "1           Achtertuin en voortuin                                1.435  \n",
       "2                       Achtertuin                                1.855  \n",
       "3  Achtertuin, voortuin en zijtuin                                 2.19  \n",
       "4  Achtertuin, voortuin en zijtuin                                 1.34  "
      ]
     },
     "execution_count": 3,
     "metadata": {},
     "output_type": "execute_result"
    }
   ],
   "source": [
    "df.head()"
   ]
  },
  {
   "cell_type": "code",
   "execution_count": 4,
   "metadata": {},
   "outputs": [
    {
     "data": {
      "text/plain": [
       "Index(['Address', 'City', 'Price', 'Lot size (m2)', 'Living space size (m2)',\n",
       "       'Build year', 'Build type', 'House type', 'Roof', 'Rooms', 'Toilet',\n",
       "       'Floors', 'Energy label', 'Position', 'Garden',\n",
       "       'Estimated neighbourhood price per m2'],\n",
       "      dtype='object')"
      ]
     },
     "execution_count": 4,
     "metadata": {},
     "output_type": "execute_result"
    }
   ],
   "source": [
    "newdf = df.copy()\n",
    "newdf.columns"
   ]
  },
  {
   "cell_type": "code",
   "execution_count": 5,
   "metadata": {},
   "outputs": [
    {
     "data": {
      "text/plain": [
       "Index(['Address', 'City', 'Price', 'LotSize', 'LivingSpace', 'Build year',\n",
       "       'Build type', 'House type', 'Roof', 'Rooms', 'Toilet', 'Floors',\n",
       "       'Energy label', 'Position', 'Garden', 'EstStreetPrice'],\n",
       "      dtype='object')"
      ]
     },
     "execution_count": 5,
     "metadata": {},
     "output_type": "execute_result"
    }
   ],
   "source": [
    "newdf.rename(columns = {'Lot size (m2)':'LotSize','Living space size (m2)':'LivingSpace','Estimated neighbourhood price per m2':'EstStreetPrice'}, inplace = True)\n",
    "newdf.columns"
   ]
  },
  {
   "attachments": {},
   "cell_type": "markdown",
   "metadata": {},
   "source": [
    "Outputting the unique values "
   ]
  },
  {
   "cell_type": "code",
   "execution_count": 6,
   "metadata": {},
   "outputs": [
    {
     "name": "stdout",
     "output_type": "stream",
     "text": [
      "['vliering', '5', 'een', 'woonlagen,', '1', 'woonlagen', 'woonlaag', 'kelder', '6', 'en', 'met', 'woonlaag,', '4', 'zolder', '2', '3']\n"
     ]
    }
   ],
   "source": [
    "unique_values_Floors = newdf['Floors'].unique()\n",
    "all_words_Floors = []\n",
    "\n",
    "for value in unique_values_Floors:\n",
    "    words = value.split(' ')\n",
    "    for word in words:\n",
    "        all_words_Floors.append(word)\n",
    "\n",
    "unique_words_Floors = list(set(all_words_Floors))\n",
    "\n",
    "print(unique_words_Floors)"
   ]
  },
  {
   "attachments": {},
   "cell_type": "markdown",
   "metadata": {},
   "source": [
    "vliering: loft<br>\n",
    "woonlaag/woonlagen: floor/floors<br>\n",
    "zolder: attic<br>\n",
    "kelder: basement<br>\n",
    "\n",
    "Assiging new values to columns to check if they help tweek better the model\n"
   ]
  },
  {
   "cell_type": "code",
   "execution_count": 7,
   "metadata": {},
   "outputs": [],
   "source": [
    "#newdf = newdf.assign(Loft=0, Attic=0, Basement=0)\n",
    "#newdf.head()"
   ]
  },
  {
   "cell_type": "code",
   "execution_count": 8,
   "metadata": {},
   "outputs": [
    {
     "name": "stdout",
     "output_type": "stream",
     "text": [
      "['Bestaande bouw' 'Nieuwbouw']\n"
     ]
    }
   ],
   "source": [
    "print(newdf['Build type'].unique())"
   ]
  },
  {
   "attachments": {},
   "cell_type": "markdown",
   "metadata": {},
   "source": [
    "Bestaande bouw: Existing building <br>\n",
    "Nieuwbouw: New construction"
   ]
  },
  {
   "attachments": {},
   "cell_type": "markdown",
   "metadata": {},
   "source": [
    "Replacing nominal values by numerical ones"
   ]
  },
  {
   "cell_type": "code",
   "execution_count": 9,
   "metadata": {},
   "outputs": [
    {
     "data": {
      "text/plain": [
       "Address           object\n",
       "City              object\n",
       "Price             object\n",
       "LotSize           object\n",
       "LivingSpace       object\n",
       "Build year        object\n",
       "Build type         int64\n",
       "House type        object\n",
       "Roof              object\n",
       "Rooms             object\n",
       "Toilet            object\n",
       "Floors            object\n",
       "Energy label      object\n",
       "Position          object\n",
       "Garden            object\n",
       "EstStreetPrice    object\n",
       "dtype: object"
      ]
     },
     "execution_count": 9,
     "metadata": {},
     "output_type": "execute_result"
    }
   ],
   "source": [
    "newdf['Build type'] = newdf['Build type'].replace({'Bestaande bouw': 0, 'Nieuwbouw': 1})\n",
    "newdf.dtypes"
   ]
  },
  {
   "cell_type": "code",
   "execution_count": 10,
   "metadata": {},
   "outputs": [
    {
     "name": "stdout",
     "output_type": "stream",
     "text": [
      "Address                                   0\n",
      "City                                      0\n",
      "Price                                     0\n",
      "Lot size (m2)                             0\n",
      "Living space size (m2)                    0\n",
      "Build year                               84\n",
      "Build type                                0\n",
      "House type                                0\n",
      "Roof                                      0\n",
      "Rooms                                     0\n",
      "Toilet                                    0\n",
      "Floors                                    0\n",
      "Energy label                              0\n",
      "Position                                304\n",
      "Garden                                   58\n",
      "Estimated neighbourhood price per m2    169\n",
      "dtype: int64\n"
     ]
    }
   ],
   "source": [
    "print(df.isna().sum())"
   ]
  },
  {
   "attachments": {},
   "cell_type": "markdown",
   "metadata": {},
   "source": [
    "Replacing the nan, before and after by empty in \"Build Year\" Column and casting the values to float to get the mean."
   ]
  },
  {
   "cell_type": "code",
   "execution_count": 11,
   "metadata": {},
   "outputs": [],
   "source": [
    "newdf['Build year'] = newdf['Build year'].str.replace(r'[^\\d]', '', regex=True)\n",
    "newdf['Build year'] = newdf['Build year'].astype(float)"
   ]
  },
  {
   "attachments": {},
   "cell_type": "markdown",
   "metadata": {},
   "source": [
    "Replacing empty values with the mean and then casting it back to integer."
   ]
  },
  {
   "cell_type": "code",
   "execution_count": 12,
   "metadata": {},
   "outputs": [],
   "source": [
    "newdf['Build year'] = newdf['Build year'].fillna(newdf['Build year'].mean())\n",
    "newdf['Build year'] = newdf['Build year'].astype('int64')"
   ]
  },
  {
   "cell_type": "code",
   "execution_count": 13,
   "metadata": {},
   "outputs": [
    {
     "data": {
      "text/plain": [
       "Address           object\n",
       "City              object\n",
       "Price             object\n",
       "LotSize           object\n",
       "LivingSpace       object\n",
       "Build year         int64\n",
       "Build type         int64\n",
       "House type        object\n",
       "Roof              object\n",
       "Rooms             object\n",
       "Toilet            object\n",
       "Floors            object\n",
       "Energy label      object\n",
       "Position          object\n",
       "Garden            object\n",
       "EstStreetPrice    object\n",
       "dtype: object"
      ]
     },
     "execution_count": 13,
     "metadata": {},
     "output_type": "execute_result"
    }
   ],
   "source": [
    "newdf.dtypes"
   ]
  },
  {
   "cell_type": "code",
   "execution_count": 14,
   "metadata": {},
   "outputs": [
    {
     "data": {
      "text/plain": [
       "array([1500, 1590, 1600, 1610, 1625, 1630, 1642, 1643, 1650, 1654, 1680,\n",
       "       1683, 1692, 1700, 1701, 1706, 1716, 1722, 1729, 1737, 1740, 1750,\n",
       "       1751, 1776, 1787, 1790, 1792, 1793, 1795, 1800, 1803, 1813, 1817,\n",
       "       1825, 1830, 1835, 1840, 1845, 1850, 1854, 1859, 1860, 1861, 1864,\n",
       "       1866, 1869, 1870, 1871, 1872, 1874, 1875, 1876, 1877, 1878, 1880,\n",
       "       1881, 1882, 1883, 1884, 1885, 1886, 1887, 1888, 1889, 1890, 1891,\n",
       "       1892, 1893, 1895, 1896, 1897, 1898, 1899, 1900, 1901, 1902, 1903,\n",
       "       1904, 1905, 1906, 1907, 1908, 1909, 1910, 1911, 1912, 1913, 1914,\n",
       "       1915, 1916, 1917, 1918, 1919, 1920, 1921, 1922, 1923, 1924, 1925,\n",
       "       1926, 1927, 1928, 1929, 1930, 1931, 1932, 1933, 1934, 1935, 1936,\n",
       "       1937, 1938, 1939, 1940, 1941, 1942, 1943, 1944, 1945, 1946, 1947,\n",
       "       1948, 1949, 1950, 1951, 1952, 1953, 1954, 1955, 1956, 1957, 1958,\n",
       "       1959, 1960, 1961, 1962, 1963, 1964, 1965, 1966, 1967, 1968, 1969,\n",
       "       1970, 1971, 1972, 1973, 1974, 1975, 1976, 1977, 1978, 1979, 1980,\n",
       "       1981, 1982, 1983, 1984, 1985, 1986, 1987, 1988, 1989, 1990, 1991,\n",
       "       1992, 1993, 1994, 1995, 1996, 1997, 1998, 1999, 2000, 2001, 2002,\n",
       "       2003, 2004, 2005, 2006, 2007, 2008, 2009, 2010, 2011, 2012, 2013,\n",
       "       2014, 2015, 2016, 2017, 2018, 2019, 2020, 2021, 2022], dtype=int64)"
      ]
     },
     "execution_count": 14,
     "metadata": {},
     "output_type": "execute_result"
    }
   ],
   "source": [
    "BuildYears = newdf['Build year'].unique()\n",
    "BuildYears.sort()\n",
    "BuildYears"
   ]
  },
  {
   "cell_type": "code",
   "execution_count": 15,
   "metadata": {},
   "outputs": [],
   "source": [
    "unique_Prices = newdf['Price'].unique()"
   ]
  },
  {
   "attachments": {},
   "cell_type": "markdown",
   "metadata": {},
   "source": [
    "Removing the text that says prices available upon request from."
   ]
  },
  {
   "cell_type": "code",
   "execution_count": 16,
   "metadata": {},
   "outputs": [],
   "source": [
    "newdf['Price'] = newdf['Price'].str.replace(r'[^\\d]', '', regex=True)\n",
    "newdf['Price'].replace('', np.nan, inplace=True)"
   ]
  },
  {
   "attachments": {},
   "cell_type": "markdown",
   "metadata": {},
   "source": [
    "Dropping the empty values. Ended up with 5547 rows."
   ]
  },
  {
   "cell_type": "code",
   "execution_count": 17,
   "metadata": {},
   "outputs": [
    {
     "data": {
      "text/plain": [
       "5547"
      ]
     },
     "execution_count": 17,
     "metadata": {},
     "output_type": "execute_result"
    }
   ],
   "source": [
    "newdf.dropna(subset=['Price'], inplace=True)\n",
    "newdf['Price']=newdf['Price'].astype('Int64')\n",
    "newdf['Price'].count()"
   ]
  },
  {
   "cell_type": "code",
   "execution_count": 18,
   "metadata": {},
   "outputs": [
    {
     "data": {
      "text/plain": [
       "Address           object\n",
       "City              object\n",
       "Price              Int64\n",
       "LotSize           object\n",
       "LivingSpace       object\n",
       "Build year         int64\n",
       "Build type         int64\n",
       "House type        object\n",
       "Roof              object\n",
       "Rooms             object\n",
       "Toilet            object\n",
       "Floors            object\n",
       "Energy label      object\n",
       "Position          object\n",
       "Garden            object\n",
       "EstStreetPrice    object\n",
       "dtype: object"
      ]
     },
     "execution_count": 18,
     "metadata": {},
     "output_type": "execute_result"
    }
   ],
   "source": [
    "newdf.dtypes"
   ]
  },
  {
   "attachments": {},
   "cell_type": "markdown",
   "metadata": {},
   "source": [
    "Changing type of LotSize and LivingSpace"
   ]
  },
  {
   "cell_type": "code",
   "execution_count": 19,
   "metadata": {},
   "outputs": [],
   "source": [
    "newdf[['LotSize','LivingSpace']] = newdf[['LotSize','LivingSpace']].apply(lambda x: x.str.replace(r'[^\\d]', '', regex=True))\n",
    "newdf['LotSize']=newdf['LotSize'].astype('Int64')\n",
    "newdf['LivingSpace']=newdf['LivingSpace'].astype('Int64')"
   ]
  },
  {
   "cell_type": "code",
   "execution_count": 20,
   "metadata": {},
   "outputs": [
    {
     "data": {
      "text/plain": [
       "Address           object\n",
       "City              object\n",
       "Price              Int64\n",
       "LotSize            Int64\n",
       "LivingSpace        Int64\n",
       "Build year         int64\n",
       "Build type         int64\n",
       "House type        object\n",
       "Roof              object\n",
       "Rooms             object\n",
       "Toilet            object\n",
       "Floors            object\n",
       "Energy label      object\n",
       "Position          object\n",
       "Garden            object\n",
       "EstStreetPrice    object\n",
       "dtype: object"
      ]
     },
     "execution_count": 20,
     "metadata": {},
     "output_type": "execute_result"
    }
   ],
   "source": [
    "newdf.dtypes"
   ]
  },
  {
   "attachments": {},
   "cell_type": "markdown",
   "metadata": {},
   "source": [
    "Removing Text from Estimate Street Price:"
   ]
  },
  {
   "cell_type": "code",
   "execution_count": 21,
   "metadata": {},
   "outputs": [],
   "source": [
    "newdf['EstStreetPrice'] = newdf['EstStreetPrice'].str.replace(r'[^\\d]', '', regex=True)\n",
    "newdf['EstStreetPrice'] = newdf['EstStreetPrice'].astype(float)"
   ]
  },
  {
   "attachments": {},
   "cell_type": "markdown",
   "metadata": {},
   "source": [
    "Filling Empty Values with mean in Estimate Street Price:"
   ]
  },
  {
   "cell_type": "code",
   "execution_count": 22,
   "metadata": {},
   "outputs": [],
   "source": [
    "newdf['EstStreetPrice'] = newdf['EstStreetPrice'].fillna(newdf['EstStreetPrice'].mean())\n",
    "newdf['EstStreetPrice'] = newdf['EstStreetPrice'].astype('int64')"
   ]
  },
  {
   "cell_type": "code",
   "execution_count": 23,
   "metadata": {},
   "outputs": [
    {
     "data": {
      "text/plain": [
       "Address           object\n",
       "City              object\n",
       "Price              Int64\n",
       "LotSize            Int64\n",
       "LivingSpace        Int64\n",
       "Build year         int64\n",
       "Build type         int64\n",
       "House type        object\n",
       "Roof              object\n",
       "Rooms             object\n",
       "Toilet            object\n",
       "Floors            object\n",
       "Energy label      object\n",
       "Position          object\n",
       "Garden            object\n",
       "EstStreetPrice     int64\n",
       "dtype: object"
      ]
     },
     "execution_count": 23,
     "metadata": {},
     "output_type": "execute_result"
    }
   ],
   "source": [
    "newdf.dtypes"
   ]
  },
  {
   "attachments": {},
   "cell_type": "markdown",
   "metadata": {},
   "source": [
    "Since address does not have an impact on price since every value is unique or mostly unique, we will discard it."
   ]
  },
  {
   "cell_type": "code",
   "execution_count": 24,
   "metadata": {},
   "outputs": [],
   "source": [
    "newdf.drop('Address', axis=1, inplace=True)"
   ]
  },
  {
   "cell_type": "code",
   "execution_count": 25,
   "metadata": {},
   "outputs": [
    {
     "data": {
      "text/plain": [
       "City              object\n",
       "Price              Int64\n",
       "LotSize            Int64\n",
       "LivingSpace        Int64\n",
       "Build year         int64\n",
       "Build type         int64\n",
       "House type        object\n",
       "Roof              object\n",
       "Rooms             object\n",
       "Toilet            object\n",
       "Floors            object\n",
       "Energy label      object\n",
       "Position          object\n",
       "Garden            object\n",
       "EstStreetPrice     int64\n",
       "dtype: object"
      ]
     },
     "execution_count": 25,
     "metadata": {},
     "output_type": "execute_result"
    }
   ],
   "source": [
    "newdf.dtypes"
   ]
  },
  {
   "attachments": {},
   "cell_type": "markdown",
   "metadata": {},
   "source": [
    "Converting the cities to decimal indexes"
   ]
  },
  {
   "cell_type": "code",
   "execution_count": 26,
   "metadata": {},
   "outputs": [],
   "source": [
    "# UniqueCities = newdf['City'].unique"
   ]
  },
  {
   "cell_type": "code",
   "execution_count": 27,
   "metadata": {},
   "outputs": [],
   "source": [
    "# newdf['City'] = newdf['City'].replace(UniqueCities, range(len(UniqueCities)))\n",
    "# newdf['City'] = newdf['City'].where(~newdf['City'].duplicated(), newdf['City'].first_valid_index())\n",
    "# print(df)"
   ]
  },
  {
   "cell_type": "code",
   "execution_count": 28,
   "metadata": {},
   "outputs": [
    {
     "name": "stdout",
     "output_type": "stream",
     "text": [
      "0    Eindhoven\n",
      "Name: City, dtype: object\n"
     ]
    }
   ],
   "source": [
    "print(newdf['City'].mode())"
   ]
  },
  {
   "attachments": {},
   "cell_type": "markdown",
   "metadata": {},
   "source": [
    "We create a dictionary that maps each city name to an integer value using enumerate and we replace each city name with its corresponding integer value using replace() method."
   ]
  },
  {
   "cell_type": "code",
   "execution_count": 29,
   "metadata": {},
   "outputs": [
    {
     "name": "stdout",
     "output_type": "stream",
     "text": [
      "1072\n"
     ]
    }
   ],
   "source": [
    "unique_cities = newdf['City'].unique()\n",
    "city_to_int = {city: i for i, city in enumerate(unique_cities)}\n",
    "\n",
    "newdf['City'] = newdf['City'].replace(city_to_int)\n",
    "print(newdf['City'].max())"
   ]
  },
  {
   "cell_type": "code",
   "execution_count": 30,
   "metadata": {},
   "outputs": [
    {
     "data": {
      "text/plain": [
       "City               int64\n",
       "Price              Int64\n",
       "LotSize            Int64\n",
       "LivingSpace        Int64\n",
       "Build year         int64\n",
       "Build type         int64\n",
       "House type        object\n",
       "Roof              object\n",
       "Rooms             object\n",
       "Toilet            object\n",
       "Floors            object\n",
       "Energy label      object\n",
       "Position          object\n",
       "Garden            object\n",
       "EstStreetPrice     int64\n",
       "dtype: object"
      ]
     },
     "execution_count": 30,
     "metadata": {},
     "output_type": "execute_result"
    }
   ],
   "source": [
    "newdf.dtypes"
   ]
  },
  {
   "cell_type": "code",
   "execution_count": 31,
   "metadata": {},
   "outputs": [
    {
     "data": {
      "text/plain": [
       "array(['Eengezinswoning, 2-onder-1-kapwoning',\n",
       "       'Herenhuis, geschakelde 2-onder-1-kapwoning',\n",
       "       'Eengezinswoning, tussenwoning', 'Eengezinswoning, hoekwoning',\n",
       "       'Eengezinswoning, vrijstaande woning', 'Villa, vrijstaande woning',\n",
       "       'Bungalow, geschakelde woning (semi-bungalow)',\n",
       "       'Eengezinswoning, tussenwoning (split-level woning)',\n",
       "       'Eengezinswoning, eindwoning',\n",
       "       'Eengezinswoning, halfvrijstaande woning (kwadrant woning)',\n",
       "       'Eengezinswoning, geschakelde 2-onder-1-kapwoning',\n",
       "       'Eengezinswoning, geschakelde woning',\n",
       "       'Herenhuis, 2-onder-1-kapwoning', 'Bungalow, geschakelde woning',\n",
       "       'Eengezinswoning, vrijstaande woning (dijkwoning)',\n",
       "       'Woonboerderij, vrijstaande woning',\n",
       "       'Eengezinswoning, halfvrijstaande woning',\n",
       "       'Landhuis, vrijstaande woning',\n",
       "       'Eengezinswoning, tussenwoning (drive-in woning)',\n",
       "       'Herenhuis, tussenwoning', 'Bungalow, vrijstaande woning',\n",
       "       'Bungalow, vrijstaande woning (semi-bungalow)',\n",
       "       'Herenhuis, hoekwoning',\n",
       "       'Eengezinswoning, hoekwoning (kwadrant woning)',\n",
       "       'Bungalow, halfvrijstaande woning (kwadrant woning)',\n",
       "       'Herenhuis, vrijstaande woning',\n",
       "       'Eengezinswoning, tussenwoning (hofjeswoning)',\n",
       "       'Bungalow, hoekwoning',\n",
       "       'Eengezinswoning, geschakelde woning (kwadrant woning)',\n",
       "       'Herenhuis, halfvrijstaande woning', 'Bungalow, tussenwoning',\n",
       "       'Eengezinswoning, tussenwoning (dijkwoning)',\n",
       "       'Eengezinswoning, eindwoning (waterwoning)',\n",
       "       'Eengezinswoning, halfvrijstaande woning (dijkwoning)',\n",
       "       'Eengezinswoning, geschakelde woning (drive-in woning)',\n",
       "       'Eengezinswoning, 2-onder-1-kapwoning (dijkwoning)',\n",
       "       'Bungalow, 2-onder-1-kapwoning (semi-bungalow)',\n",
       "       'Eengezinswoning, hoekwoning (split-level woning)',\n",
       "       'Eengezinswoning, hoekwoning (drive-in woning)',\n",
       "       'Woonboerderij, 2-onder-1-kapwoning', 'Villa, geschakelde woning',\n",
       "       'Eengezinswoning, vrijstaande woning (bedrijfs- of dienstwoning)',\n",
       "       'Grachtenpand, tussenwoning', 'Herenhuis, geschakelde woning',\n",
       "       'Eengezinswoning, tussenwoning (patiowoning)',\n",
       "       'Herenhuis, eindwoning', 'Woonboerderij, halfvrijstaande woning',\n",
       "       'Herenhuis, verspringend',\n",
       "       'Bungalow, geschakelde woning (patiowoning)',\n",
       "       'Grachtenpand, geschakelde 2-onder-1-kapwoning',\n",
       "       'Villa, hoekwoning', 'Woonboerderij, geschakelde woning',\n",
       "       'Herenhuis, 2-onder-1-kapwoning (waterwoning)',\n",
       "       'Eengezinswoning, hoekwoning (patiowoning)',\n",
       "       'Villa, vrijstaande woning (dijkwoning)',\n",
       "       'Herenhuis, geschakelde woning (split-level woning)',\n",
       "       'Eengezinswoning, geschakelde woning (split-level woning)',\n",
       "       'Villa, halfvrijstaande woning',\n",
       "       'Woonboerderij, vrijstaande woning (bedrijfs- of dienstwoning)',\n",
       "       'Eengezinswoning, geschakelde woning (dijkwoning)',\n",
       "       'Villa, 2-onder-1-kapwoning', 'Landhuis, eindwoning',\n",
       "       'Bungalow, halfvrijstaande woning (semi-bungalow)',\n",
       "       'Eengezinswoning, geschakelde 2-onder-1-kapwoning (dijkwoning)',\n",
       "       'Eengezinswoning, eindwoning (patiowoning)',\n",
       "       'Eengezinswoning, eindwoning (bedrijfs- of dienstwoning)',\n",
       "       'Eengezinswoning, geschakelde woning (bedrijfs- of dienstwoning)',\n",
       "       'Bungalow, geschakelde 2-onder-1-kapwoning (semi-bungalow)',\n",
       "       'Eengezinswoning, verspringend (drive-in woning)',\n",
       "       'Herenhuis, tussenwoning (drive-in woning)',\n",
       "       'Eengezinswoning, vrijstaande woning (split-level woning)',\n",
       "       'Eengezinswoning, 2-onder-1-kapwoning (drive-in woning)',\n",
       "       'Bungalow, 2-onder-1-kapwoning',\n",
       "       'Eengezinswoning, eindwoning (drive-in woning)',\n",
       "       'Bungalow, halfvrijstaande woning',\n",
       "       'Bungalow, tussenwoning (semi-bungalow)',\n",
       "       'Villa, geschakelde 2-onder-1-kapwoning',\n",
       "       'Eengezinswoning, hoekwoning (hofjeswoning)',\n",
       "       'Villa, 2-onder-1-kapwoning (split-level woning)',\n",
       "       'Bungalow, hoekwoning (semi-bungalow)',\n",
       "       'Herenhuis, vrijstaande woning (split-level woning)',\n",
       "       'Landhuis, 2-onder-1-kapwoning',\n",
       "       'Herenhuis, tussenwoning (split-level woning)',\n",
       "       'Eengezinswoning, 2-onder-1-kapwoning (patiowoning)',\n",
       "       'Eengezinswoning, hoekwoning (dijkwoning)',\n",
       "       'Villa, vrijstaande woning (split-level woning)',\n",
       "       'Landhuis, vrijstaande woning (drive-in woning)',\n",
       "       'Bungalow, tussenwoning (patiowoning)',\n",
       "       'Bungalow, hoekwoning (patiowoning)',\n",
       "       'Villa, vrijstaande woning (bedrijfs- of dienstwoning)',\n",
       "       'Eengezinswoning, geschakelde 2-onder-1-kapwoning (split-level woning)',\n",
       "       'Eengezinswoning, verspringend', 'Villa, eindwoning',\n",
       "       'Herenhuis, vrijstaande woning (bedrijfs- of dienstwoning)',\n",
       "       'Eengezinswoning, halfvrijstaande woning (split-level woning)',\n",
       "       'Villa, geschakelde woning (split-level woning)',\n",
       "       'Grachtenpand, hoekwoning',\n",
       "       'Herenhuis, geschakelde woning (waterwoning)',\n",
       "       'Woonboot, vrijstaande woning',\n",
       "       'Eengezinswoning, hoekwoning (waterwoning)',\n",
       "       'Bungalow, vrijstaande woning (patiowoning)',\n",
       "       'Villa, vrijstaande woning (waterwoning)',\n",
       "       'Eengezinswoning, 2-onder-1-kapwoning (bedrijfs- of dienstwoning)',\n",
       "       'Eengezinswoning, tussenwoning (waterwoning)',\n",
       "       'Grachtenpand, geschakelde woning',\n",
       "       'Landhuis, vrijstaande woning (dijkwoning)',\n",
       "       'Herenhuis, verspringend (split-level woning)'], dtype=object)"
      ]
     },
     "execution_count": 31,
     "metadata": {},
     "output_type": "execute_result"
    }
   ],
   "source": [
    "newdf['House type'].unique()"
   ]
  },
  {
   "attachments": {},
   "cell_type": "markdown",
   "metadata": {},
   "source": [
    "Repeating the same step for house types:"
   ]
  },
  {
   "cell_type": "code",
   "execution_count": 32,
   "metadata": {},
   "outputs": [
    {
     "name": "stdout",
     "output_type": "stream",
     "text": [
      "106\n"
     ]
    }
   ],
   "source": [
    "unique_Houses = newdf['House type'].unique()\n",
    "House_to_int = {House: i for i, House in enumerate(unique_Houses)}\n",
    "\n",
    "newdf['House type'] = newdf['House type'].replace(House_to_int)\n",
    "print(newdf['House type'].max())"
   ]
  },
  {
   "cell_type": "code",
   "execution_count": 33,
   "metadata": {},
   "outputs": [
    {
     "data": {
      "text/plain": [
       "City               int64\n",
       "Price              Int64\n",
       "LotSize            Int64\n",
       "LivingSpace        Int64\n",
       "Build year         int64\n",
       "Build type         int64\n",
       "House type         int64\n",
       "Roof              object\n",
       "Rooms             object\n",
       "Toilet            object\n",
       "Floors            object\n",
       "Energy label      object\n",
       "Position          object\n",
       "Garden            object\n",
       "EstStreetPrice     int64\n",
       "dtype: object"
      ]
     },
     "execution_count": 33,
     "metadata": {},
     "output_type": "execute_result"
    }
   ],
   "source": [
    "newdf.dtypes"
   ]
  },
  {
   "cell_type": "code",
   "execution_count": 34,
   "metadata": {},
   "outputs": [
    {
     "data": {
      "text/plain": [
       "array(['Zadeldak bedekt met pannen',\n",
       "       'Schilddak bedekt met bitumineuze dakbedekking en pannen',\n",
       "       'Schilddak bedekt met pannen', 'Dwarskap bedekt met pannen',\n",
       "       'Zadeldak', 'Plat dak bedekt met bitumineuze dakbedekking',\n",
       "       'Samengesteld dak bedekt met pannen',\n",
       "       'Lessenaardak bedekt met metaal',\n",
       "       'Zadeldak bedekt met bitumineuze dakbedekking en pannen',\n",
       "       'Lessenaardak', 'Dwarskap',\n",
       "       'Samengesteld dak bedekt met bitumineuze dakbedekking en pannen',\n",
       "       'Plat dak', 'Mansarde dak bedekt met pannen',\n",
       "       'Zadeldak bedekt met overig en pannen',\n",
       "       'Plat dak bedekt met bitumineuze dakbedekking en pannen',\n",
       "       'Mansarde dak bedekt met bitumineuze dakbedekking en pannen',\n",
       "       'Samengesteld dak', 'Zadeldak bedekt met pannen en riet',\n",
       "       'Dwarskap bedekt met overig', 'Zadeldak bedekt met riet',\n",
       "       'Tentdak bedekt met pannen', 'Mansarde dak bedekt met riet',\n",
       "       'Zadeldak bedekt met asbest en pannen',\n",
       "       'Plat dak bedekt met kunststof',\n",
       "       'Lessenaardak bedekt met bitumineuze dakbedekking',\n",
       "       'Lessenaardak bedekt met pannen', 'Schilddak bedekt met riet',\n",
       "       'Mansarde dak bedekt met overig', 'Mansarde dak',\n",
       "       'Lessenaardak bedekt met overig',\n",
       "       'Samengesteld dak bedekt met leisteen',\n",
       "       'Zadeldak bedekt met bitumineuze dakbedekking', 'Tentdak',\n",
       "       'Plat dak bedekt met pannen', 'Samengesteld dak bedekt met riet',\n",
       "       'Zadeldak bedekt met bitumineuze dakbedekking, overig en pannen',\n",
       "       'Zadeldak bedekt met leisteen',\n",
       "       'Lessenaardak bedekt met overig en pannen',\n",
       "       'Zadeldak bedekt met metaal', 'Samengesteld dak bedekt met metaal',\n",
       "       'Samengesteld dak bedekt met kunststof en pannen',\n",
       "       'Dwarskap bedekt met bitumineuze dakbedekking en pannen',\n",
       "       'Lessenaardak bedekt met bitumineuze dakbedekking en pannen',\n",
       "       'Plat dak bedekt met overig',\n",
       "       'Schilddak bedekt met overig en pannen',\n",
       "       'Zadeldak bedekt met kunststof',\n",
       "       'Mansarde dak bedekt met bitumineuze dakbedekking',\n",
       "       'Schilddak bedekt met metaal',\n",
       "       'Samengesteld dak bedekt met pannen en riet',\n",
       "       'Samengesteld dak bedekt met bitumineuze dakbedekking',\n",
       "       'Samengesteld dak bedekt met asbest en pannen',\n",
       "       'Zadeldak bedekt met kunststof en pannen',\n",
       "       'Schilddak bedekt met asbest en pannen',\n",
       "       'Samengesteld dak bedekt met bitumineuze dakbedekking en leisteen',\n",
       "       'Lessenaardak bedekt met leisteen',\n",
       "       'Samengesteld dak bedekt met overig',\n",
       "       'Samengesteld dak bedekt met overig en pannen',\n",
       "       'Samengesteld dak bedekt met bitumineuze dakbedekking en riet',\n",
       "       'Lessenaardak bedekt met asbest', 'Schilddak bedekt met leisteen',\n",
       "       'Schilddak',\n",
       "       'Zadeldak bedekt met bitumineuze dakbedekking en metaal',\n",
       "       'Zadeldak bedekt met asbest',\n",
       "       'Samengesteld dak bedekt met asbest en bitumineuze dakbedekking',\n",
       "       'Mansarde dak bedekt met bitumineuze dakbedekking en leisteen',\n",
       "       'Samengesteld dak bedekt met bitumineuze dakbedekking en kunststof',\n",
       "       'Samengesteld dak bedekt met bitumineuze dakbedekking en overig',\n",
       "       'Schilddak bedekt met bitumineuze dakbedekking, overig en pannen',\n",
       "       'Plat dak bedekt met leisteen',\n",
       "       'Samengesteld dak bedekt met bitumineuze dakbedekking, pannen en riet',\n",
       "       'Zadeldak bedekt met metaal en pannen',\n",
       "       'Lessenaardak bedekt met kunststof', 'Zadeldak bedekt met overig',\n",
       "       'Tentdak bedekt met bitumineuze dakbedekking',\n",
       "       'Samengesteld dak bedekt met bitumineuze dakbedekking, leisteen en metaal',\n",
       "       'Samengesteld dak bedekt met bitumineuze dakbedekking en metaal',\n",
       "       'Zadeldak bedekt met bitumineuze dakbedekking en kunststof',\n",
       "       'Tentdak bedekt met riet', 'Schilddak bedekt met pannen en riet',\n",
       "       'Plat dak bedekt met bitumineuze dakbedekking en overig',\n",
       "       'Tentdak bedekt met bitumineuze dakbedekking en pannen',\n",
       "       'Dwarskap bedekt met metaal',\n",
       "       'Zadeldak bedekt met bitumineuze dakbedekking en overig',\n",
       "       'Dwarskap bedekt met bitumineuze dakbedekking',\n",
       "       'Samengesteld dak bedekt met kunststof en leisteen',\n",
       "       'Samengesteld dak bedekt met bitumineuze dakbedekking, leisteen en pannen'],\n",
       "      dtype=object)"
      ]
     },
     "execution_count": 34,
     "metadata": {},
     "output_type": "execute_result"
    }
   ],
   "source": [
    "newdf['Roof'].unique()"
   ]
  },
  {
   "attachments": {},
   "cell_type": "markdown",
   "metadata": {},
   "source": [
    "Same same as above:"
   ]
  },
  {
   "cell_type": "code",
   "execution_count": 35,
   "metadata": {},
   "outputs": [
    {
     "name": "stdout",
     "output_type": "stream",
     "text": [
      "86\n"
     ]
    }
   ],
   "source": [
    "unique_Roofs = newdf['Roof'].unique()\n",
    "Roof_to_int = {Rouf: i for i, Rouf in enumerate(unique_Roofs)}\n",
    "\n",
    "newdf['Roof'] = newdf['Roof'].replace(Roof_to_int)\n",
    "print(newdf['Roof'].max())"
   ]
  },
  {
   "cell_type": "code",
   "execution_count": 36,
   "metadata": {},
   "outputs": [
    {
     "data": {
      "text/plain": [
       "City               int64\n",
       "Price              Int64\n",
       "LotSize            Int64\n",
       "LivingSpace        Int64\n",
       "Build year         int64\n",
       "Build type         int64\n",
       "House type         int64\n",
       "Roof               int64\n",
       "Rooms             object\n",
       "Toilet            object\n",
       "Floors            object\n",
       "Energy label      object\n",
       "Position          object\n",
       "Garden            object\n",
       "EstStreetPrice     int64\n",
       "dtype: object"
      ]
     },
     "execution_count": 36,
     "metadata": {},
     "output_type": "execute_result"
    }
   ],
   "source": [
    "newdf.dtypes"
   ]
  },
  {
   "cell_type": "code",
   "execution_count": 37,
   "metadata": {},
   "outputs": [
    {
     "data": {
      "text/plain": [
       "array(['5 kamers (4 slaapkamers)', '4 kamers (3 slaapkamers)',\n",
       "       '5 kamers (3 slaapkamers)', '6 kamers (5 slaapkamers)',\n",
       "       '7 kamers (6 slaapkamers)', '9 kamers (7 slaapkamers)',\n",
       "       '3 kamers (2 slaapkamers)', '4 kamers (2 slaapkamers)',\n",
       "       '9 kamers (4 slaapkamers)', '6 kamers (4 slaapkamers)',\n",
       "       '8 kamers (4 slaapkamers)', '10 kamers (4 slaapkamers)',\n",
       "       '7 kamers (4 slaapkamers)', '7 kamers (5 slaapkamers)',\n",
       "       '6 kamers (3 slaapkamers)', '12 kamers (6 slaapkamers)',\n",
       "       '9 kamers (8 slaapkamers)', '4 kamers (4 slaapkamers)',\n",
       "       '7 kamers (3 slaapkamers)', '6 kamers (6 slaapkamers)',\n",
       "       '8 kamers (6 slaapkamers)', '9 kamers (6 slaapkamers)',\n",
       "       '5 kamers (2 slaapkamers)', '7 kamers (2 slaapkamers)',\n",
       "       '8 kamers (5 slaapkamers)', '11 kamers (5 slaapkamers)',\n",
       "       '8 kamers (7 slaapkamers)', '11 kamers (6 slaapkamers)',\n",
       "       '5 kamers (5 slaapkamers)', '10 kamers (3 slaapkamers)',\n",
       "       '2 kamers (1 slaapkamer)', '9 kamers (5 slaapkamers)', '5 kamers',\n",
       "       '3 kamers (3 slaapkamers)', '10 kamers (6 slaapkamers)',\n",
       "       '3 kamers (1 slaapkamer)', '6 kamers (2 slaapkamers)',\n",
       "       '11 kamers (8 slaapkamers)', '12 kamers (8 slaapkamers)',\n",
       "       '13 kamers (8 slaapkamers)', '2 kamers',\n",
       "       '10 kamers (7 slaapkamers)', '14 kamers (8 slaapkamers)',\n",
       "       '10 kamers (8 slaapkamers)', '8 kamers (3 slaapkamers)',\n",
       "       '11 kamers (3 slaapkamers)', '11 kamers (7 slaapkamers)',\n",
       "       '12 kamers (5 slaapkamers)', '14 kamers (4 slaapkamers)',\n",
       "       '4 kamers', '10 kamers (5 slaapkamers)',\n",
       "       '9 kamers (3 slaapkamers)', '12 kamers (7 slaapkamers)',\n",
       "       '5 kamers (1 slaapkamer)', '13 kamers (5 slaapkamers)',\n",
       "       '11 kamers (4 slaapkamers)', '14 kamers (5 slaapkamers)',\n",
       "       '15 kamers (8 slaapkamers)', '12 kamers (9 slaapkamers)',\n",
       "       '13 kamers (6 slaapkamers)', '16 kamers (12 slaapkamers)',\n",
       "       '7 kamers', '8 kamers (8 slaapkamers)',\n",
       "       '12 kamers (4 slaapkamers)', '15 kamers (9 slaapkamers)',\n",
       "       '11 kamers (9 slaapkamers)', '4 kamers (1 slaapkamer)',\n",
       "       '15 kamers (6 slaapkamers)', '6 kamers (1 slaapkamer)',\n",
       "       '15 kamers (12 slaapkamers)', '18 kamers (16 slaapkamers)',\n",
       "       '17 kamers (7 slaapkamers)', '13 kamers (9 slaapkamers)',\n",
       "       '13 kamers (7 slaapkamers)', '12 kamers (10 slaapkamers)',\n",
       "       '9 kamers (2 slaapkamers)', '13 kamers (4 slaapkamers)'],\n",
       "      dtype=object)"
      ]
     },
     "execution_count": 37,
     "metadata": {},
     "output_type": "execute_result"
    }
   ],
   "source": [
    "newdf['Rooms'].unique()"
   ]
  },
  {
   "attachments": {},
   "cell_type": "markdown",
   "metadata": {},
   "source": [
    "Same same same:"
   ]
  },
  {
   "cell_type": "code",
   "execution_count": 38,
   "metadata": {},
   "outputs": [
    {
     "name": "stdout",
     "output_type": "stream",
     "text": [
      "76\n"
     ]
    }
   ],
   "source": [
    "unique_Rooms = newdf['Rooms'].unique()\n",
    "Rooms_to_int = {Room: i for i, Room in enumerate(unique_Rooms)}\n",
    "\n",
    "newdf['Rooms'] = newdf['Rooms'].replace(Rooms_to_int)\n",
    "print(newdf['Rooms'].max())"
   ]
  },
  {
   "cell_type": "code",
   "execution_count": 39,
   "metadata": {},
   "outputs": [
    {
     "data": {
      "text/plain": [
       "City               int64\n",
       "Price              Int64\n",
       "LotSize            Int64\n",
       "LivingSpace        Int64\n",
       "Build year         int64\n",
       "Build type         int64\n",
       "House type         int64\n",
       "Roof               int64\n",
       "Rooms              int64\n",
       "Toilet            object\n",
       "Floors            object\n",
       "Energy label      object\n",
       "Position          object\n",
       "Garden            object\n",
       "EstStreetPrice     int64\n",
       "dtype: object"
      ]
     },
     "execution_count": 39,
     "metadata": {},
     "output_type": "execute_result"
    }
   ],
   "source": [
    "newdf.dtypes"
   ]
  },
  {
   "cell_type": "code",
   "execution_count": 40,
   "metadata": {},
   "outputs": [
    {
     "data": {
      "text/plain": [
       "array(['1 badkamer en 1 apart toilet', '1 badkamer en 2 aparte toiletten',\n",
       "       '2 badkamers en 2 aparte toiletten',\n",
       "       '3 badkamers en 2 aparte toiletten', '1 badkamer',\n",
       "       '2 badkamers en 1 apart toilet', '3 badkamers en 1 apart toilet',\n",
       "       '2 badkamers en 3 aparte toiletten', '2 badkamers',\n",
       "       '4 badkamers en 1 apart toilet',\n",
       "       '3 badkamers en 3 aparte toiletten',\n",
       "       '1 badkamer en 3 aparte toiletten', '3 badkamers',\n",
       "       '4 badkamers en 3 aparte toiletten',\n",
       "       '2 badkamers en 4 aparte toiletten',\n",
       "       '6 badkamers en 1 apart toilet',\n",
       "       '4 badkamers en 2 aparte toiletten',\n",
       "       '5 badkamers en 1 apart toilet', '7 badkamers en 1 apart toilet',\n",
       "       '1 badkamer en 4 aparte toiletten',\n",
       "       '3 badkamers en 4 aparte toiletten',\n",
       "       '5 badkamers en 2 aparte toiletten'], dtype=object)"
      ]
     },
     "execution_count": 40,
     "metadata": {},
     "output_type": "execute_result"
    }
   ],
   "source": [
    "newdf['Toilet'].unique()"
   ]
  },
  {
   "attachments": {},
   "cell_type": "markdown",
   "metadata": {},
   "source": [
    "Same Same Same Same:"
   ]
  },
  {
   "cell_type": "code",
   "execution_count": 41,
   "metadata": {},
   "outputs": [
    {
     "name": "stdout",
     "output_type": "stream",
     "text": [
      "21\n"
     ]
    }
   ],
   "source": [
    "unique_Toilets = newdf['Toilet'].unique()\n",
    "Toilets_to_int = {Toilet: i for i, Toilet in enumerate(unique_Toilets)}\n",
    "\n",
    "newdf['Toilet'] = newdf['Toilet'].replace(Toilets_to_int)\n",
    "print(newdf['Toilet'].max())"
   ]
  },
  {
   "cell_type": "code",
   "execution_count": 42,
   "metadata": {},
   "outputs": [
    {
     "data": {
      "text/plain": [
       "City               int64\n",
       "Price              Int64\n",
       "LotSize            Int64\n",
       "LivingSpace        Int64\n",
       "Build year         int64\n",
       "Build type         int64\n",
       "House type         int64\n",
       "Roof               int64\n",
       "Rooms              int64\n",
       "Toilet             int64\n",
       "Floors            object\n",
       "Energy label      object\n",
       "Position          object\n",
       "Garden            object\n",
       "EstStreetPrice     int64\n",
       "dtype: object"
      ]
     },
     "execution_count": 42,
     "metadata": {},
     "output_type": "execute_result"
    }
   ],
   "source": [
    "newdf.dtypes"
   ]
  },
  {
   "cell_type": "markdown",
   "metadata": {},
   "source": []
  },
  {
   "attachments": {},
   "cell_type": "markdown",
   "metadata": {},
   "source": [
    "Same same same same same:"
   ]
  },
  {
   "cell_type": "code",
   "execution_count": 43,
   "metadata": {},
   "outputs": [
    {
     "name": "stdout",
     "output_type": "stream",
     "text": [
      "30\n"
     ]
    }
   ],
   "source": [
    "unique_Floors = newdf['Floors'].unique()\n",
    "Floors_to_int = {Floors: i for i, Floors in enumerate(unique_Floors)}\n",
    "\n",
    "newdf['Floors'] = newdf['Floors'].replace(Floors_to_int)\n",
    "print(newdf['Floors'].max())"
   ]
  },
  {
   "cell_type": "code",
   "execution_count": 44,
   "metadata": {},
   "outputs": [
    {
     "data": {
      "text/plain": [
       "City               int64\n",
       "Price              Int64\n",
       "LotSize            Int64\n",
       "LivingSpace        Int64\n",
       "Build year         int64\n",
       "Build type         int64\n",
       "House type         int64\n",
       "Roof               int64\n",
       "Rooms              int64\n",
       "Toilet             int64\n",
       "Floors             int64\n",
       "Energy label      object\n",
       "Position          object\n",
       "Garden            object\n",
       "EstStreetPrice     int64\n",
       "dtype: object"
      ]
     },
     "execution_count": 44,
     "metadata": {},
     "output_type": "execute_result"
    }
   ],
   "source": [
    "newdf.dtypes"
   ]
  },
  {
   "cell_type": "code",
   "execution_count": 45,
   "metadata": {},
   "outputs": [
    {
     "data": {
      "text/plain": [
       "array(['Achtertuin, voortuin en zijtuin', 'Achtertuin en voortuin',\n",
       "       'Achtertuin', 'Voortuin en zijtuin', 'Tuin rondom',\n",
       "       'Patio/atrium en voortuin', 'Achtertuin en zijtuin',\n",
       "       'Achtertuin en tuin rondom',\n",
       "       'Patio/atrium, voortuin en zonneterras',\n",
       "       'Achtertuin, voortuin, zijtuin en zonneterras',\n",
       "       'Achtertuin en zonneterras', 'Voortuin en zonneterras',\n",
       "       'Voortuin, zijtuin en zonneterras',\n",
       "       'Achtertuin, tuin rondom en voortuin',\n",
       "       'Achtertuin, voortuin en zonneterras', 'Patio/atrium',\n",
       "       'Tuin rondom en zonneterras', 'Zijtuin', 'Voortuin', nan,\n",
       "       'Achtertuin, tuin rondom, voortuin en zijtuin',\n",
       "       'Patio/atrium en zonneterras', 'Plaats',\n",
       "       'Achtertuin, tuin rondom, voortuin, zijtuin en zonneterras',\n",
       "       'Achtertuin, plaats en voortuin', 'Plaats en zonneterras',\n",
       "       'Achtertuin, patio/atrium en voortuin', 'Zonneterras',\n",
       "       'Achtertuin en patio/atrium', 'Tuin rondom en zijtuin',\n",
       "       'Plaats en voortuin', 'Achtertuin, tuin rondom en zonneterras',\n",
       "       'Plaats en zijtuin', 'Patio/atrium, voortuin en zijtuin',\n",
       "       'Achtertuin, zijtuin en zonneterras', 'Patio/atrium en zijtuin',\n",
       "       'Patio/atrium en plaats',\n",
       "       'Achtertuin, plaats, voortuin en zonneterras',\n",
       "       'Patio/atrium en tuin rondom', 'Achtertuin en plaats',\n",
       "       'Tuin rondom en voortuin',\n",
       "       'Patio/atrium, tuin rondom en zonneterras',\n",
       "       'Plaats, voortuin en zijtuin',\n",
       "       'Patio/atrium, plaats, zijtuin en zonneterras',\n",
       "       'Achtertuin, plaats, voortuin en zijtuin',\n",
       "       'Achtertuin, patio/atrium en plaats'], dtype=object)"
      ]
     },
     "execution_count": 45,
     "metadata": {},
     "output_type": "execute_result"
    }
   ],
   "source": [
    "newdf['Garden'].unique()"
   ]
  },
  {
   "attachments": {},
   "cell_type": "markdown",
   "metadata": {},
   "source": [
    "Since all the gardens locations are added we can assume that the missing data are houses that do not have a garden, especially since there is no option to no garden."
   ]
  },
  {
   "cell_type": "code",
   "execution_count": 46,
   "metadata": {},
   "outputs": [
    {
     "data": {
      "text/plain": [
       "<bound method Series.count of 0       Achtertuin, voortuin en zijtuin\n",
       "1                Achtertuin en voortuin\n",
       "2                            Achtertuin\n",
       "3       Achtertuin, voortuin en zijtuin\n",
       "4       Achtertuin, voortuin en zijtuin\n",
       "                     ...               \n",
       "5550                Voortuin en zijtuin\n",
       "5551    Achtertuin, voortuin en zijtuin\n",
       "5552             Achtertuin en voortuin\n",
       "5553                        Tuin rondom\n",
       "5554                         Achtertuin\n",
       "Name: Garden, Length: 5547, dtype: object>"
      ]
     },
     "execution_count": 46,
     "metadata": {},
     "output_type": "execute_result"
    }
   ],
   "source": [
    "newdf['Garden'].count"
   ]
  },
  {
   "cell_type": "code",
   "execution_count": 47,
   "metadata": {},
   "outputs": [
    {
     "name": "stdout",
     "output_type": "stream",
     "text": [
      "58\n"
     ]
    }
   ],
   "source": [
    "print(newdf['Garden'].isnull().sum())"
   ]
  },
  {
   "cell_type": "code",
   "execution_count": 48,
   "metadata": {},
   "outputs": [],
   "source": [
    "newdf['Garden'].fillna('No Garden',inplace=True)"
   ]
  },
  {
   "cell_type": "code",
   "execution_count": 49,
   "metadata": {},
   "outputs": [
    {
     "name": "stdout",
     "output_type": "stream",
     "text": [
      "0\n"
     ]
    }
   ],
   "source": [
    "print(newdf['Garden'].isnull().sum())"
   ]
  },
  {
   "attachments": {},
   "cell_type": "markdown",
   "metadata": {},
   "source": [
    "Now applying the same same from before:"
   ]
  },
  {
   "cell_type": "code",
   "execution_count": 50,
   "metadata": {},
   "outputs": [
    {
     "name": "stdout",
     "output_type": "stream",
     "text": [
      "45\n"
     ]
    }
   ],
   "source": [
    "unique_Gardens = newdf['Garden'].unique()\n",
    "Gardens_to_int = {Gardens: i for i, Gardens in enumerate(unique_Gardens)}\n",
    "\n",
    "newdf['Garden'] = newdf['Garden'].replace(Gardens_to_int)\n",
    "print(newdf['Garden'].max())"
   ]
  },
  {
   "cell_type": "code",
   "execution_count": 51,
   "metadata": {},
   "outputs": [
    {
     "data": {
      "text/plain": [
       "City               int64\n",
       "Price              Int64\n",
       "LotSize            Int64\n",
       "LivingSpace        Int64\n",
       "Build year         int64\n",
       "Build type         int64\n",
       "House type         int64\n",
       "Roof               int64\n",
       "Rooms              int64\n",
       "Toilet             int64\n",
       "Floors             int64\n",
       "Energy label      object\n",
       "Position          object\n",
       "Garden             int64\n",
       "EstStreetPrice     int64\n",
       "dtype: object"
      ]
     },
     "execution_count": 51,
     "metadata": {},
     "output_type": "execute_result"
    }
   ],
   "source": [
    "newdf.dtypes"
   ]
  },
  {
   "attachments": {},
   "cell_type": "markdown",
   "metadata": {},
   "source": [
    "Same Same energy label:"
   ]
  },
  {
   "cell_type": "code",
   "execution_count": 52,
   "metadata": {},
   "outputs": [
    {
     "name": "stdout",
     "output_type": "stream",
     "text": [
      "11\n"
     ]
    }
   ],
   "source": [
    "unique_Energys = np.array(['Niet verplicht', 'G', 'F','E','D','C','B','A','A+','A++','A+++','A++++'])\n",
    "Energys_to_int = {Energys: i for i, Energys in enumerate(unique_Energys)}\n",
    "\n",
    "newdf['Energy label'] = newdf['Energy label'].replace(Energys_to_int)\n",
    "print(newdf['Energy label'].max())"
   ]
  },
  {
   "cell_type": "code",
   "execution_count": 53,
   "metadata": {},
   "outputs": [
    {
     "name": "stdout",
     "output_type": "stream",
     "text": [
      "['Niet verplicht' 'G' 'F' 'E' 'D' 'C' 'B' 'A' 'A+' 'A++' 'A+++' 'A++++']\n"
     ]
    }
   ],
   "source": [
    "print(unique_Energys)"
   ]
  },
  {
   "cell_type": "code",
   "execution_count": 54,
   "metadata": {},
   "outputs": [
    {
     "name": "stdout",
     "output_type": "stream",
     "text": [
      "{'Niet verplicht': 0, 'G': 1, 'F': 2, 'E': 3, 'D': 4, 'C': 5, 'B': 6, 'A': 7, 'A+': 8, 'A++': 9, 'A+++': 10, 'A++++': 11}\n"
     ]
    }
   ],
   "source": [
    "print(Energys_to_int)"
   ]
  },
  {
   "cell_type": "code",
   "execution_count": 55,
   "metadata": {},
   "outputs": [
    {
     "data": {
      "text/plain": [
       "City               int64\n",
       "Price              Int64\n",
       "LotSize            Int64\n",
       "LivingSpace        Int64\n",
       "Build year         int64\n",
       "Build type         int64\n",
       "House type         int64\n",
       "Roof               int64\n",
       "Rooms              int64\n",
       "Toilet             int64\n",
       "Floors             int64\n",
       "Energy label       int64\n",
       "Position          object\n",
       "Garden             int64\n",
       "EstStreetPrice     int64\n",
       "dtype: object"
      ]
     },
     "execution_count": 55,
     "metadata": {},
     "output_type": "execute_result"
    }
   ],
   "source": [
    "newdf.dtypes"
   ]
  },
  {
   "cell_type": "code",
   "execution_count": 56,
   "metadata": {},
   "outputs": [
    {
     "data": {
      "text/plain": [
       "0       4\n",
       "1       3\n",
       "2       6\n",
       "3       6\n",
       "4       7\n",
       "       ..\n",
       "5550    2\n",
       "5551    1\n",
       "5552    1\n",
       "5553    6\n",
       "5554    3\n",
       "Name: Energy label, Length: 5547, dtype: int64"
      ]
     },
     "execution_count": 56,
     "metadata": {},
     "output_type": "execute_result"
    }
   ],
   "source": [
    "newdf['Energy label']"
   ]
  },
  {
   "cell_type": "code",
   "execution_count": 57,
   "metadata": {},
   "outputs": [
    {
     "data": {
      "text/plain": [
       "array([nan, 'Aan rustige weg en in woonwijk',\n",
       "       'Aan rustige weg, aan water, beschutte ligging, in woonwijk en vrij uitzicht',\n",
       "       'In woonwijk', 'Aan rustige weg, beschutte ligging en in centrum',\n",
       "       'Aan rustige weg, aan water, in bosrijke omgeving, landelijk gelegen en vrij uitzicht',\n",
       "       'In centrum en in woonwijk',\n",
       "       'Aan rustige weg, beschutte ligging, buiten bebouwde kom, in woonwijk, landelijk gelegen en vrij uitzicht',\n",
       "       'Vrij uitzicht',\n",
       "       'Aan rustige weg, beschutte ligging en in woonwijk',\n",
       "       'Aan rustige weg, in woonwijk en vrij uitzicht',\n",
       "       'Aan park, aan rustige weg en in woonwijk', 'Aan rustige weg',\n",
       "       'In centrum', 'Aan rustige weg, aan water en in woonwijk',\n",
       "       'Aan rustige weg, beschutte ligging en vrij uitzicht',\n",
       "       'Aan rustige weg, beschutte ligging, in woonwijk, landelijk gelegen, open ligging en vrij uitzicht',\n",
       "       'Aan water, in woonwijk en vrij uitzicht',\n",
       "       'Aan rustige weg, in bosrijke omgeving en in woonwijk',\n",
       "       'Beschutte ligging en in woonwijk',\n",
       "       'Aan rustige weg, buiten bebouwde kom, in bosrijke omgeving, landelijk gelegen en vrij uitzicht',\n",
       "       'Aan rustige weg, beschutte ligging, in woonwijk en vrij uitzicht',\n",
       "       'Aan rustige weg, landelijk gelegen en vrij uitzicht',\n",
       "       'Aan rustige weg en in centrum',\n",
       "       'In bosrijke omgeving en in woonwijk',\n",
       "       'Aan rustige weg, aan water, beschutte ligging, landelijk gelegen, open ligging en vrij uitzicht',\n",
       "       'Aan water en in woonwijk',\n",
       "       'In bosrijke omgeving en vrij uitzicht',\n",
       "       'Aan rustige weg, in bosrijke omgeving, in woonwijk en vrij uitzicht',\n",
       "       'In woonwijk en vrij uitzicht',\n",
       "       'Aan drukke weg en beschutte ligging',\n",
       "       'Aan drukke weg en vrij uitzicht',\n",
       "       'Aan park, aan rustige weg, beschutte ligging en in woonwijk',\n",
       "       'Buiten bebouwde kom en open ligging',\n",
       "       'Aan rustige weg, in bosrijke omgeving en vrij uitzicht',\n",
       "       'Aan rustige weg, beschutte ligging, in bosrijke omgeving en in woonwijk',\n",
       "       'Aan rustige weg, aan vaarwater, aan water, beschutte ligging en in woonwijk',\n",
       "       'Landelijk gelegen',\n",
       "       'Aan park, aan rustige weg, aan water, in woonwijk en vrij uitzicht',\n",
       "       'Aan drukke weg en in woonwijk',\n",
       "       'Aan rustige weg, aan water en vrij uitzicht',\n",
       "       'Aan rustige weg, bedrijventerrein en beschutte ligging',\n",
       "       'Aan bosrand, aan rustige weg, beschutte ligging, in bosrijke omgeving en in woonwijk',\n",
       "       'Aan park, aan rustige weg, in woonwijk en vrij uitzicht',\n",
       "       'Aan drukke weg, in woonwijk, open ligging en vrij uitzicht',\n",
       "       'Aan rustige weg, in centrum en in woonwijk',\n",
       "       'In bosrijke omgeving, in woonwijk en vrij uitzicht',\n",
       "       'Aan drukke weg', 'Beschutte ligging',\n",
       "       'Beschutte ligging en vrij uitzicht',\n",
       "       'Aan rustige weg, in woonwijk en open ligging',\n",
       "       'Aan rustige weg, aan water, in woonwijk en vrij uitzicht',\n",
       "       'Open ligging en vrij uitzicht',\n",
       "       'Aan vaarwater, aan water, landelijk gelegen en vrij uitzicht',\n",
       "       'Beschutte ligging en in bosrijke omgeving',\n",
       "       'Aan rustige weg, aan water, beschutte ligging en in woonwijk',\n",
       "       'Aan bosrand, aan rustige weg en in woonwijk',\n",
       "       'Aan park, aan rustige weg, in centrum en vrij uitzicht',\n",
       "       'Aan rustige weg, buiten bebouwde kom, in bosrijke omgeving, landelijk gelegen, open ligging en vrij uitzicht',\n",
       "       'Aan vaarwater, in woonwijk en vrij uitzicht',\n",
       "       'Buiten bebouwde kom, landelijk gelegen en open ligging',\n",
       "       'Aan drukke weg en in centrum',\n",
       "       'Aan bosrand, aan drukke weg, buiten bebouwde kom, in bosrijke omgeving, landelijk gelegen en vrij uitzicht',\n",
       "       'Aan drukke weg, in centrum en vrij uitzicht',\n",
       "       'Aan park en aan rustige weg',\n",
       "       'Aan rustige weg, buiten bebouwde kom, in woonwijk, open ligging en vrij uitzicht',\n",
       "       'Aan bosrand, in bosrijke omgeving en in woonwijk',\n",
       "       'Aan rustige weg, in woonwijk, landelijk gelegen, open ligging en vrij uitzicht',\n",
       "       'Aan bosrand, aan park, aan rustige weg, beschutte ligging, in bosrijke omgeving, in woonwijk en vrij uitzicht',\n",
       "       'Beschutte ligging, in woonwijk en vrij uitzicht',\n",
       "       'Buiten bebouwde kom, open ligging en vrij uitzicht',\n",
       "       'Aan rustige weg en beschutte ligging',\n",
       "       'Aan drukke weg en aan water',\n",
       "       'Aan park, aan rustige weg, in centrum en in woonwijk',\n",
       "       'Aan drukke weg, in woonwijk en open ligging',\n",
       "       'Aan rustige weg, beschutte ligging en in bosrijke omgeving',\n",
       "       'Aan rustige weg, in woonwijk, open ligging en vrij uitzicht',\n",
       "       'Buiten bebouwde kom, landelijk gelegen, open ligging en vrij uitzicht',\n",
       "       'Aan rustige weg, in woonwijk en landelijk gelegen',\n",
       "       'Aan rustige weg, open ligging en vrij uitzicht',\n",
       "       'Aan rustige weg en in bosrijke omgeving',\n",
       "       'Aan park, aan water, beschutte ligging en in woonwijk',\n",
       "       'Aan vaarwater, aan water en in woonwijk',\n",
       "       'Aan rustige weg, aan vaarwater, aan water en in centrum',\n",
       "       'Aan rustige weg, beschutte ligging, in bosrijke omgeving, in centrum en in woonwijk',\n",
       "       'Aan bosrand en in centrum',\n",
       "       'Aan bosrand, aan drukke weg en in bosrijke omgeving',\n",
       "       'Aan vaarwater, aan water en vrij uitzicht',\n",
       "       'Aan bosrand, aan rustige weg, in bosrijke omgeving en in centrum',\n",
       "       'Aan rustige weg, beschutte ligging, in centrum en in woonwijk',\n",
       "       'In woonwijk, open ligging en vrij uitzicht',\n",
       "       'Aan bosrand, buiten bebouwde kom, in bosrijke omgeving, landelijk gelegen en vrij uitzicht',\n",
       "       'Aan rustige weg, buiten bebouwde kom, open ligging en vrij uitzicht',\n",
       "       'Aan park, aan rustige weg, in woonwijk, open ligging en vrij uitzicht',\n",
       "       'Aan rustige weg, aan vaarwater, in woonwijk en vrij uitzicht',\n",
       "       'Aan bosrand, aan rustige weg, in bosrijke omgeving en in woonwijk',\n",
       "       'Aan rustige weg, in centrum, in woonwijk, open ligging en vrij uitzicht',\n",
       "       'Landelijk gelegen en vrij uitzicht',\n",
       "       'Aan water, beschutte ligging en in woonwijk',\n",
       "       'Buiten bebouwde kom, landelijk gelegen en vrij uitzicht',\n",
       "       'Aan rustige weg en vrij uitzicht',\n",
       "       'Beschutte ligging, in bosrijke omgeving en landelijk gelegen',\n",
       "       'Aan rustige weg, in woonwijk, landelijk gelegen en open ligging',\n",
       "       'Aan bosrand, aan park, aan rustige weg, in bosrijke omgeving, in woonwijk en vrij uitzicht',\n",
       "       'Aan water, in woonwijk en open ligging',\n",
       "       'Beschutte ligging, in centrum, landelijk gelegen en vrij uitzicht',\n",
       "       'Aan rustige weg en buiten bebouwde kom',\n",
       "       'Buiten bebouwde kom en in bosrijke omgeving',\n",
       "       'In centrum en vrij uitzicht',\n",
       "       'Beschutte ligging, buiten bebouwde kom, landelijk gelegen en vrij uitzicht',\n",
       "       'Aan park, in woonwijk en vrij uitzicht',\n",
       "       'Aan bosrand, aan rustige weg, buiten bebouwde kom en in bosrijke omgeving',\n",
       "       'Aan rustige weg, aan vaarwater, aan water en in woonwijk',\n",
       "       'Aan park en in woonwijk',\n",
       "       'Aan park, aan rustige weg, in woonwijk en open ligging',\n",
       "       'Aan rustige weg, aan water, buiten bebouwde kom, landelijk gelegen, open ligging en vrij uitzicht',\n",
       "       'Aan rustige weg en landelijk gelegen',\n",
       "       'Aan rustige weg, buiten bebouwde kom, in bosrijke omgeving, landelijk gelegen en open ligging',\n",
       "       'In bosrijke omgeving, landelijk gelegen en open ligging',\n",
       "       'In woonwijk en landelijk gelegen',\n",
       "       'Aan park, aan rustige weg, beschutte ligging en vrij uitzicht',\n",
       "       'Aan rustige weg, aan vaarwater, in bosrijke omgeving, in woonwijk en vrij uitzicht',\n",
       "       'Beschutte ligging, landelijk gelegen en vrij uitzicht',\n",
       "       'Aan water, beschutte ligging, in woonwijk en open ligging',\n",
       "       'Aan rustige weg, aan vaarwater, in centrum en vrij uitzicht',\n",
       "       'Aan water en vrij uitzicht', 'In bosrijke omgeving',\n",
       "       'Aan rustige weg, aan water, in bosrijke omgeving, in woonwijk en landelijk gelegen',\n",
       "       'Aan park en in centrum', 'Aan water en in centrum',\n",
       "       'Aan bosrand, aan rustige weg, buiten bebouwde kom, in bosrijke omgeving, landelijk gelegen en vrij uitzicht',\n",
       "       'Aan rustige weg, in centrum, in woonwijk en vrij uitzicht',\n",
       "       'Aan drukke weg, in centrum en in woonwijk',\n",
       "       'Aan rustige weg, beschutte ligging, in centrum en landelijk gelegen',\n",
       "       'Aan vaarwater, open ligging en vrij uitzicht',\n",
       "       'Landelijk gelegen, open ligging en vrij uitzicht',\n",
       "       'Aan rustige weg, in centrum en vrij uitzicht',\n",
       "       'Aan park, aan rustige weg, aan vaarwater, aan water, in woonwijk en vrij uitzicht',\n",
       "       'Aan rustige weg, beschutte ligging, buiten bebouwde kom, landelijk gelegen en vrij uitzicht',\n",
       "       'Aan vaarwater en vrij uitzicht',\n",
       "       'Aan rustige weg, in woonwijk, landelijk gelegen en vrij uitzicht',\n",
       "       'In bosrijke omgeving, landelijk gelegen, open ligging en vrij uitzicht',\n",
       "       'Aan bosrand, aan rustige weg, landelijk gelegen en vrij uitzicht',\n",
       "       'Aan rustige weg, buiten bebouwde kom, landelijk gelegen en vrij uitzicht',\n",
       "       'Aan rustige weg, aan water en open ligging',\n",
       "       'In centrum, in woonwijk en vrij uitzicht',\n",
       "       'Aan rustige weg, buiten bebouwde kom en in woonwijk',\n",
       "       'Aan rustige weg, in bosrijke omgeving, landelijk gelegen, open ligging en vrij uitzicht',\n",
       "       'Aan rustige weg, buiten bebouwde kom, landelijk gelegen, open ligging en vrij uitzicht',\n",
       "       'Aan park, aan rustige weg, aan water, beschutte ligging, in bosrijke omgeving en vrij uitzicht',\n",
       "       'Aan rustige weg, beschutte ligging, in bosrijke omgeving en vrij uitzicht',\n",
       "       'Beschutte ligging, in centrum en landelijk gelegen', 'Aan water',\n",
       "       'In bosrijke omgeving en landelijk gelegen',\n",
       "       'Aan rustige weg, buiten bebouwde kom en landelijk gelegen',\n",
       "       'Aan rustige weg, in bosrijke omgeving, landelijk gelegen en vrij uitzicht',\n",
       "       'Aan rustige weg, in bosrijke omgeving, in woonwijk en open ligging',\n",
       "       'Aan bosrand, aan park, aan rustige weg, beschutte ligging, in bosrijke omgeving, in woonwijk en open ligging',\n",
       "       'Aan bosrand, buiten bebouwde kom, in bosrijke omgeving en landelijk gelegen',\n",
       "       'Aan rustige weg, aan vaarwater, aan water en in bosrijke omgeving',\n",
       "       'Aan rustige weg, buiten bebouwde kom en open ligging',\n",
       "       'Aan rustige weg, aan water en beschutte ligging',\n",
       "       'Aan rustige weg, aan vaarwater, aan water, in woonwijk en vrij uitzicht',\n",
       "       'Aan rustige weg, in bosrijke omgeving, in woonwijk en landelijk gelegen',\n",
       "       'Aan park, aan rustige weg, in woonwijk, landelijk gelegen en vrij uitzicht',\n",
       "       'In woonwijk, landelijk gelegen, open ligging en vrij uitzicht',\n",
       "       'Beschutte ligging, in centrum en in woonwijk',\n",
       "       'Aan bosrand, aan rustige weg, buiten bebouwde kom, in bosrijke omgeving, landelijk gelegen, open ligging en vrij uitzicht',\n",
       "       'Aan drukke weg, aan vaarwater, aan water, in woonwijk en vrij uitzicht',\n",
       "       'Aan drukke weg, beschutte ligging en in woonwijk',\n",
       "       'Aan vaarwater, aan water, in centrum, in woonwijk, open ligging en vrij uitzicht',\n",
       "       'Aan drukke weg, in bosrijke omgeving en in woonwijk',\n",
       "       'Beschutte ligging en in centrum',\n",
       "       'Aan bosrand, aan rustige weg, beschutte ligging en in bosrijke omgeving',\n",
       "       'Aan drukke weg, in centrum, in woonwijk en vrij uitzicht',\n",
       "       'Aan park, aan water, in woonwijk en vrij uitzicht',\n",
       "       'Aan drukke weg en landelijk gelegen',\n",
       "       'Aan drukke weg, aan park, in woonwijk, open ligging en vrij uitzicht',\n",
       "       'Aan vaarwater en landelijk gelegen',\n",
       "       'In bosrijke omgeving, landelijk gelegen en vrij uitzicht',\n",
       "       'Aan rustige weg, in bosrijke omgeving, in centrum en in woonwijk',\n",
       "       'Aan rustige weg en aan water',\n",
       "       'Aan rustige weg, buiten bebouwde kom, in bosrijke omgeving en landelijk gelegen',\n",
       "       'Aan rustige weg, aan vaarwater en in woonwijk',\n",
       "       'Aan rustige weg, beschutte ligging, in centrum, in woonwijk en vrij uitzicht',\n",
       "       'Aan bosrand, in bosrijke omgeving en in centrum',\n",
       "       'Aan rustige weg, beschutte ligging, buiten bebouwde kom, in bosrijke omgeving en landelijk gelegen',\n",
       "       'In centrum en landelijk gelegen', 'Aan bosrand',\n",
       "       'Aan bosrand, beschutte ligging en in woonwijk',\n",
       "       'Aan rustige weg, in woonwijk en zeezicht',\n",
       "       'Aan rustige weg, aan water, in centrum, in woonwijk en vrij uitzicht',\n",
       "       'In bosrijke omgeving, in centrum en vrij uitzicht',\n",
       "       'Aan park, beschutte ligging, in woonwijk en vrij uitzicht',\n",
       "       'Aan park, open ligging en vrij uitzicht',\n",
       "       'Aan bosrand, aan rustige weg, beschutte ligging, buiten bebouwde kom, in bosrijke omgeving, landelijk gelegen en vrij uitzicht',\n",
       "       'Aan bosrand en in woonwijk', 'Aan vaarwater en aan water',\n",
       "       'Bedrijventerrein', 'Aan rustige weg en aan vaarwater',\n",
       "       'Aan rustige weg, in centrum, open ligging en vrij uitzicht',\n",
       "       'Aan vaarwater, aan water, landelijk gelegen en open ligging',\n",
       "       'Aan rustige weg, aan vaarwater, aan water, in centrum en vrij uitzicht',\n",
       "       'Aan vaarwater, beschutte ligging en landelijk gelegen',\n",
       "       'Aan rustige weg, aan water, landelijk gelegen, open ligging en vrij uitzicht',\n",
       "       'Aan drukke weg, aan water, landelijk gelegen en vrij uitzicht',\n",
       "       'Aan rustige weg, aan water, in woonwijk, open ligging en vrij uitzicht',\n",
       "       'Aan park, aan rustige weg en beschutte ligging',\n",
       "       'Aan bosrand, aan rustige weg, beschutte ligging, in bosrijke omgeving, in woonwijk en landelijk gelegen',\n",
       "       'Aan vaarwater en in woonwijk',\n",
       "       'Aan rustige weg, landelijk gelegen en open ligging',\n",
       "       'Aan bosrand, aan rustige weg, in woonwijk en vrij uitzicht',\n",
       "       'Aan bosrand, aan rustige weg en in bosrijke omgeving',\n",
       "       'Aan rustige weg, landelijk gelegen, open ligging en vrij uitzicht',\n",
       "       'Aan rustige weg, aan vaarwater, aan water en vrij uitzicht',\n",
       "       'Aan rustige weg en open ligging',\n",
       "       'Buiten bebouwde kom, in bosrijke omgeving, landelijk gelegen en open ligging',\n",
       "       'Aan vaarwater, aan water, in woonwijk en vrij uitzicht',\n",
       "       'Aan bosrand, aan drukke weg, aan vaarwater en aan water',\n",
       "       'Beschutte ligging, in bosrijke omgeving en in woonwijk',\n",
       "       'Aan vaarwater, in centrum en vrij uitzicht',\n",
       "       'Landelijk gelegen, open ligging, vrij uitzicht en zeezicht',\n",
       "       'In woonwijk en open ligging',\n",
       "       'Aan rustige weg, aan water, in bosrijke omgeving, in woonwijk en vrij uitzicht',\n",
       "       'Aan rustige weg, aan vaarwater, aan water, landelijk gelegen en open ligging',\n",
       "       'Aan bosrand, beschutte ligging, in bosrijke omgeving, in centrum en landelijk gelegen',\n",
       "       'Aan rustige weg, aan vaarwater, aan water, buiten bebouwde kom, open ligging en vrij uitzicht',\n",
       "       'Aan bosrand, aan rustige weg, beschutte ligging, in woonwijk, landelijk gelegen en vrij uitzicht',\n",
       "       'Aan vaarwater, aan water, landelijk gelegen, open ligging en vrij uitzicht',\n",
       "       'Aan bosrand, aan rustige weg, beschutte ligging, buiten bebouwde kom, in bosrijke omgeving, landelijk gelegen, open ligging en vrij uitzicht',\n",
       "       'Landelijk gelegen en open ligging',\n",
       "       'Aan park, aan rustige weg, aan water, beschutte ligging en vrij uitzicht',\n",
       "       'Aan rustige weg, aan water en in centrum',\n",
       "       'Aan rustige weg, beschutte ligging, landelijk gelegen en vrij uitzicht',\n",
       "       'Aan park, aan rustige weg, aan water en in woonwijk',\n",
       "       'Aan rustige weg, in bosrijke omgeving, in woonwijk, open ligging en vrij uitzicht',\n",
       "       'Aan rustige weg, aan water, landelijk gelegen en vrij uitzicht',\n",
       "       'Aan park, aan rustige weg, beschutte ligging, in woonwijk en vrij uitzicht',\n",
       "       'Aan rustige weg, beschutte ligging, in bosrijke omgeving, in woonwijk en vrij uitzicht',\n",
       "       'Aan drukke weg, in bosrijke omgeving, in centrum, in woonwijk en vrij uitzicht',\n",
       "       'Aan bosrand, aan park en in centrum',\n",
       "       'Aan drukke weg, in woonwijk en vrij uitzicht',\n",
       "       'Aan bosrand, aan park, aan rustige weg, in bosrijke omgeving en in woonwijk',\n",
       "       'Aan park, aan rustige weg, in bosrijke omgeving, in woonwijk en vrij uitzicht',\n",
       "       'Aan vaarwater en in centrum',\n",
       "       'Aan bosrand, aan rustige weg, in bosrijke omgeving en landelijk gelegen',\n",
       "       'Aan vaarwater, beschutte ligging en in woonwijk',\n",
       "       'Aan bosrand, aan rustige weg, in bosrijke omgeving en vrij uitzicht',\n",
       "       'Aan drukke weg, buiten bebouwde kom, open ligging en vrij uitzicht',\n",
       "       'Aan vaarwater, aan water, in centrum en in woonwijk',\n",
       "       'Aan drukke weg, aan rustige weg, beschutte ligging, in bosrijke omgeving, in woonwijk en vrij uitzicht',\n",
       "       'Aan rustige weg, aan vaarwater, buiten bebouwde kom, landelijk gelegen en vrij uitzicht',\n",
       "       'In bosrijke omgeving en open ligging',\n",
       "       'Aan park, aan rustige weg, aan water, in woonwijk, open ligging en vrij uitzicht',\n",
       "       'Open ligging',\n",
       "       'Aan bosrand, aan rustige weg, beschutte ligging, in bosrijke omgeving, in woonwijk, landelijk gelegen en vrij uitzicht',\n",
       "       'Aan bosrand, aan rustige weg, beschutte ligging, in bosrijke omgeving, in woonwijk en vrij uitzicht',\n",
       "       'Aan rustige weg, aan vaarwater, beschutte ligging, in bosrijke omgeving en in woonwijk',\n",
       "       'Aan rustige weg, aan vaarwater, aan water en landelijk gelegen',\n",
       "       'Aan bosrand, aan park, aan rustige weg en in woonwijk',\n",
       "       'Aan bosrand, aan rustige weg, in woonwijk, landelijk gelegen en vrij uitzicht',\n",
       "       'Aan bosrand, buiten bebouwde kom, in bosrijke omgeving, open ligging en vrij uitzicht',\n",
       "       'Aan water, beschutte ligging, in woonwijk en vrij uitzicht',\n",
       "       'Aan drukke weg en in bosrijke omgeving',\n",
       "       'Aan vaarwater, buiten bebouwde kom, landelijk gelegen, open ligging en vrij uitzicht',\n",
       "       'Aan park, aan rustige weg, buiten bebouwde kom, landelijk gelegen en vrij uitzicht',\n",
       "       'Aan park, aan rustige weg, aan vaarwater, aan water en in woonwijk',\n",
       "       'Aan park, aan rustige weg en in centrum',\n",
       "       'Aan bosrand, aan drukke weg en buiten bebouwde kom',\n",
       "       'Aan park, in centrum, in woonwijk en vrij uitzicht',\n",
       "       'Aan drukke weg, buiten bebouwde kom en vrij uitzicht',\n",
       "       'Aan rustige weg, beschutte ligging, buiten bebouwde kom en vrij uitzicht',\n",
       "       'Aan water, open ligging en vrij uitzicht',\n",
       "       'Aan rustige weg, beschutte ligging, buiten bebouwde kom, in bosrijke omgeving, landelijk gelegen en vrij uitzicht',\n",
       "       'Beschutte ligging, buiten bebouwde kom, in bosrijke omgeving, landelijk gelegen en vrij uitzicht',\n",
       "       'Beschutte ligging, in centrum, in woonwijk en vrij uitzicht',\n",
       "       'Aan vaarwater, aan water en in centrum',\n",
       "       'Aan park, aan rustige weg, aan water, beschutte ligging en in woonwijk',\n",
       "       'Aan bosrand, aan rustige weg, beschutte ligging, buiten bebouwde kom, in bosrijke omgeving en landelijk gelegen',\n",
       "       'Aan bosrand, in woonwijk, landelijk gelegen en vrij uitzicht',\n",
       "       'Aan bosrand, aan rustige weg en beschutte ligging',\n",
       "       'Aan rustige weg, aan vaarwater, aan water, in woonwijk, open ligging en vrij uitzicht',\n",
       "       'Aan water en beschutte ligging',\n",
       "       'Buiten bebouwde kom en vrij uitzicht',\n",
       "       'Beschutte ligging en landelijk gelegen',\n",
       "       'Aan rustige weg, aan vaarwater, aan water, landelijk gelegen en vrij uitzicht',\n",
       "       'Aan park, aan rustige weg en open ligging',\n",
       "       'Aan rustige weg, bedrijventerrein en in woonwijk',\n",
       "       'In bosrijke omgeving, in woonwijk, landelijk gelegen en vrij uitzicht',\n",
       "       'Aan rustige weg, in bosrijke omgeving, in centrum, in woonwijk en vrij uitzicht',\n",
       "       'Aan drukke weg en aan vaarwater',\n",
       "       'Aan bosrand, aan park, aan rustige weg, in woonwijk en vrij uitzicht',\n",
       "       'Aan rustige weg, buiten bebouwde kom en vrij uitzicht',\n",
       "       'Aan bosrand, beschutte ligging en in bosrijke omgeving',\n",
       "       'Aan park, aan rustige weg, aan vaarwater, aan water en vrij uitzicht',\n",
       "       'Aan water, buiten bebouwde kom, landelijk gelegen en vrij uitzicht',\n",
       "       'Aan water en landelijk gelegen',\n",
       "       'In centrum, in woonwijk en open ligging',\n",
       "       'Aan rustige weg, aan vaarwater, aan water, in woonwijk en landelijk gelegen',\n",
       "       'Aan rustige weg, aan water, in centrum en vrij uitzicht',\n",
       "       'Aan rustige weg, beschutte ligging, in woonwijk en landelijk gelegen',\n",
       "       'Aan bosrand en in bosrijke omgeving',\n",
       "       'Aan vaarwater, in centrum, in woonwijk en vrij uitzicht',\n",
       "       'Aan bosrand, aan rustige weg, aan water, beschutte ligging en in woonwijk',\n",
       "       'Aan drukke weg, aan water, in centrum, open ligging en vrij uitzicht',\n",
       "       'Aan rustige weg, buiten bebouwde kom, in bosrijke omgeving, open ligging en vrij uitzicht',\n",
       "       'Aan park, aan water en vrij uitzicht',\n",
       "       'Aan park, aan rustige weg, in bosrijke omgeving en vrij uitzicht',\n",
       "       'Aan bosrand, aan rustige weg, in bosrijke omgeving, in woonwijk en vrij uitzicht',\n",
       "       'Aan bosrand, aan rustige weg, in centrum en in woonwijk',\n",
       "       'Aan park, aan rustige weg, aan water, in woonwijk, landelijk gelegen en vrij uitzicht',\n",
       "       'Aan vaarwater, aan water, beschutte ligging en in bosrijke omgeving',\n",
       "       'Aan rustige weg, aan water, in woonwijk, landelijk gelegen, open ligging en vrij uitzicht',\n",
       "       'Aan water, in bosrijke omgeving, in centrum, in woonwijk en vrij uitzicht',\n",
       "       'Aan vaarwater, aan water, buiten bebouwde kom, open ligging en vrij uitzicht',\n",
       "       'Aan park, aan rustige weg, in bosrijke omgeving, in woonwijk, landelijk gelegen, open ligging en vrij uitzicht',\n",
       "       'Buiten bebouwde kom',\n",
       "       'Aan rustige weg, aan vaarwater en vrij uitzicht',\n",
       "       'Aan water, in centrum en in woonwijk',\n",
       "       'Aan bosrand, aan drukke weg, beschutte ligging, in bosrijke omgeving en vrij uitzicht',\n",
       "       'Aan bosrand, aan drukke weg en aan park',\n",
       "       'Aan park, aan rustige weg, beschutte ligging, in bosrijke omgeving en vrij uitzicht',\n",
       "       'Aan rustige weg, beschutte ligging, in woonwijk, landelijk gelegen en vrij uitzicht',\n",
       "       'Aan rustige weg, aan water, in woonwijk, landelijk gelegen en vrij uitzicht',\n",
       "       'Aan bosrand, aan park, beschutte ligging, in bosrijke omgeving, in woonwijk en vrij uitzicht',\n",
       "       'Aan drukke weg, aan vaarwater en in woonwijk',\n",
       "       'Aan drukke weg, aan vaarwater en open ligging',\n",
       "       'Aan drukke weg, in bosrijke omgeving, in woonwijk en vrij uitzicht',\n",
       "       'Aan drukke weg, aan park en in woonwijk',\n",
       "       'Aan vaarwater, aan water, in centrum en landelijk gelegen',\n",
       "       'Aan rustige weg, in bosrijke omgeving, in woonwijk, landelijk gelegen, open ligging en vrij uitzicht',\n",
       "       'Aan rustige weg, aan vaarwater, aan water, beschutte ligging, buiten bebouwde kom, landelijk gelegen en vrij uitzicht',\n",
       "       'Aan vaarwater, aan water, buiten bebouwde kom en vrij uitzicht',\n",
       "       'Aan rustige weg, beschutte ligging, in bosrijke omgeving en in centrum',\n",
       "       'Aan vaarwater, aan water, in woonwijk, landelijk gelegen en vrij uitzicht',\n",
       "       'Aan park, aan rustige weg en landelijk gelegen',\n",
       "       'Aan rustige weg en bedrijventerrein',\n",
       "       'Aan water, landelijk gelegen en vrij uitzicht',\n",
       "       'In centrum en open ligging',\n",
       "       'Aan bosrand, aan rustige weg, beschutte ligging, buiten bebouwde kom, in bosrijke omgeving en vrij uitzicht',\n",
       "       'Aan drukke weg en aan park',\n",
       "       'Aan rustige weg, aan vaarwater, aan water, beschutte ligging, in woonwijk en vrij uitzicht',\n",
       "       'Aan park, in woonwijk, open ligging en vrij uitzicht',\n",
       "       'Beschutte ligging, in bosrijke omgeving, in centrum en in woonwijk',\n",
       "       'Aan park, beschutte ligging, in bosrijke omgeving, in woonwijk en vrij uitzicht',\n",
       "       'Aan bosrand, aan rustige weg, beschutte ligging, in bosrijke omgeving en vrij uitzicht',\n",
       "       'Aan park, aan rustige weg, beschutte ligging, in bosrijke omgeving, in woonwijk en vrij uitzicht',\n",
       "       'Aan park, aan rustige weg, beschutte ligging, in woonwijk en landelijk gelegen',\n",
       "       'Aan vaarwater, aan water, beschutte ligging en in centrum',\n",
       "       'Aan park, aan rustige weg, aan vaarwater, in woonwijk, landelijk gelegen, open ligging en vrij uitzicht',\n",
       "       'Aan rustige weg, in centrum, in woonwijk, landelijk gelegen en vrij uitzicht',\n",
       "       'Beschutte ligging, in bosrijke omgeving, in woonwijk en vrij uitzicht',\n",
       "       'Aan rustige weg, buiten bebouwde kom, landelijk gelegen en open ligging',\n",
       "       'Aan park, aan water, beschutte ligging en vrij uitzicht',\n",
       "       'Aan park, beschutte ligging, in centrum en in woonwijk',\n",
       "       'Aan drukke weg, beschutte ligging en in centrum',\n",
       "       'Aan park, aan water, beschutte ligging, in woonwijk, landelijk gelegen en vrij uitzicht',\n",
       "       'Aan park, in bosrijke omgeving, in centrum, in woonwijk en vrij uitzicht',\n",
       "       'Aan park, aan water, in woonwijk, open ligging en vrij uitzicht',\n",
       "       'Aan drukke weg, beschutte ligging, in centrum en in woonwijk',\n",
       "       'Beschutte ligging, buiten bebouwde kom en landelijk gelegen',\n",
       "       'Aan water, beschutte ligging, buiten bebouwde kom, landelijk gelegen, open ligging en vrij uitzicht',\n",
       "       'Aan vaarwater', 'Aan bosrand en vrij uitzicht',\n",
       "       'In centrum, landelijk gelegen en open ligging',\n",
       "       'Aan park, aan rustige weg en vrij uitzicht',\n",
       "       'Aan rustige weg, beschutte ligging, in bosrijke omgeving, landelijk gelegen en vrij uitzicht',\n",
       "       'Aan water, in woonwijk, landelijk gelegen en vrij uitzicht',\n",
       "       'Aan rustige weg, aan water, in woonwijk en open ligging',\n",
       "       'Aan bosrand, beschutte ligging, in woonwijk en vrij uitzicht',\n",
       "       'In bosrijke omgeving, in centrum en in woonwijk',\n",
       "       'Aan park, aan rustige weg, in centrum, in woonwijk, landelijk gelegen en vrij uitzicht',\n",
       "       'Aan water, buiten bebouwde kom, in woonwijk en vrij uitzicht',\n",
       "       'Beschutte ligging, in bosrijke omgeving en in centrum',\n",
       "       'Aan vaarwater, aan water, in centrum en vrij uitzicht',\n",
       "       'Aan bosrand en aan rustige weg',\n",
       "       'Aan bosrand, beschutte ligging, buiten bebouwde kom, in bosrijke omgeving, landelijk gelegen en vrij uitzicht',\n",
       "       'Aan park',\n",
       "       'Aan rustige weg, aan water, open ligging en vrij uitzicht',\n",
       "       'Beschutte ligging, in woonwijk en landelijk gelegen',\n",
       "       'Aan rustige weg, beschutte ligging, in woonwijk en open ligging',\n",
       "       'Aan rustige weg, aan water, in centrum, landelijk gelegen en vrij uitzicht',\n",
       "       'Aan rustige weg, aan vaarwater, aan water, open ligging en vrij uitzicht',\n",
       "       'Aan park, aan rustige weg, aan vaarwater, aan water, landelijk gelegen, open ligging en vrij uitzicht',\n",
       "       'Aan vaarwater en open ligging',\n",
       "       'Aan rustige weg, beschutte ligging, buiten bebouwde kom, landelijk gelegen, open ligging en vrij uitzicht',\n",
       "       'Aan vaarwater, aan water, open ligging en vrij uitzicht',\n",
       "       'Aan bosrand, aan rustige weg, aan vaarwater, aan water, in bosrijke omgeving en vrij uitzicht',\n",
       "       'Aan bosrand, aan rustige weg, aan water, in bosrijke omgeving, in woonwijk en vrij uitzicht',\n",
       "       'Aan rustige weg, aan water, in bosrijke omgeving en in woonwijk',\n",
       "       'Aan rustige weg, aan vaarwater, aan water, beschutte ligging en vrij uitzicht',\n",
       "       'In centrum, landelijk gelegen en vrij uitzicht',\n",
       "       'Aan water, in centrum en vrij uitzicht',\n",
       "       'Aan drukke weg, aan park, in bosrijke omgeving en landelijk gelegen',\n",
       "       'Aan bosrand, aan rustige weg, in bosrijke omgeving, landelijk gelegen en vrij uitzicht',\n",
       "       'Buiten bebouwde kom en landelijk gelegen',\n",
       "       'Aan park en beschutte ligging',\n",
       "       'Aan drukke weg, aan water, in woonwijk en vrij uitzicht',\n",
       "       'Aan bosrand, aan rustige weg, buiten bebouwde kom, in bosrijke omgeving en landelijk gelegen',\n",
       "       'Aan rustige weg, in bosrijke omgeving, in centrum en vrij uitzicht',\n",
       "       'In centrum, open ligging en vrij uitzicht',\n",
       "       'In bosrijke omgeving en in centrum',\n",
       "       'Aan bosrand, beschutte ligging, in bosrijke omgeving en in woonwijk',\n",
       "       'Aan rustige weg, in centrum, in woonwijk en open ligging',\n",
       "       'Aan rustige weg, in bosrijke omgeving en in centrum',\n",
       "       'Aan park, aan rustige weg, aan water, in bosrijke omgeving, landelijk gelegen en vrij uitzicht',\n",
       "       'Aan rustige weg, aan water, in bosrijke omgeving, in woonwijk, open ligging en vrij uitzicht',\n",
       "       'Aan drukke weg, landelijk gelegen, open ligging en vrij uitzicht',\n",
       "       'Aan bosrand, aan rustige weg, beschutte ligging, in bosrijke omgeving en open ligging',\n",
       "       'Aan vaarwater, aan water, in woonwijk en landelijk gelegen',\n",
       "       'Aan rustige weg, aan water, buiten bebouwde kom en landelijk gelegen',\n",
       "       'Aan vaarwater, aan water, beschutte ligging en in woonwijk',\n",
       "       'Aan rustige weg, in bosrijke omgeving, in centrum, in woonwijk en landelijk gelegen',\n",
       "       'Aan bosrand, aan rustige weg, open ligging en vrij uitzicht',\n",
       "       'Aan rustige weg, beschutte ligging, in bosrijke omgeving, landelijk gelegen, open ligging en vrij uitzicht',\n",
       "       'Aan rustige weg, aan water, beschutte ligging, in centrum, in woonwijk en vrij uitzicht',\n",
       "       'Aan rustige weg, buiten bebouwde kom, in centrum, in woonwijk, landelijk gelegen, open ligging en vrij uitzicht',\n",
       "       'Aan rustige weg, beschutte ligging, in bosrijke omgeving en landelijk gelegen',\n",
       "       'Buiten bebouwde kom, in bosrijke omgeving, landelijk gelegen en vrij uitzicht',\n",
       "       'Beschutte ligging, buiten bebouwde kom, in bosrijke omgeving en landelijk gelegen',\n",
       "       'Aan drukke weg, aan vaarwater, aan water, beschutte ligging en vrij uitzicht',\n",
       "       'Beschutte ligging, buiten bebouwde kom, in bosrijke omgeving en vrij uitzicht',\n",
       "       'Aan park, aan water en in woonwijk',\n",
       "       'In centrum, in woonwijk, open ligging en vrij uitzicht',\n",
       "       'Aan rustige weg, aan vaarwater, aan water, in woonwijk, landelijk gelegen, open ligging en vrij uitzicht',\n",
       "       'Aan drukke weg, aan park, beschutte ligging en in woonwijk',\n",
       "       'Aan rustige weg, aan vaarwater, landelijk gelegen en vrij uitzicht',\n",
       "       'Aan drukke weg, aan vaarwater en in centrum',\n",
       "       'Aan vaarwater, landelijk gelegen, open ligging en vrij uitzicht',\n",
       "       'Aan bosrand, aan park, aan rustige weg, beschutte ligging, in bosrijke omgeving en landelijk gelegen',\n",
       "       'Aan rustige weg, aan vaarwater, aan water, in woonwijk, landelijk gelegen en vrij uitzicht',\n",
       "       'Aan rustige weg, aan water, in centrum en open ligging',\n",
       "       'Aan rustige weg, bedrijventerrein en open ligging',\n",
       "       'Aan drukke weg, aan vaarwater, beschutte ligging en in centrum',\n",
       "       'Bedrijventerrein, beschutte ligging, buiten bebouwde kom, landelijk gelegen en vrij uitzicht',\n",
       "       'Aan drukke weg, buiten bebouwde kom, landelijk gelegen en vrij uitzicht',\n",
       "       'In bosrijke omgeving, in centrum, landelijk gelegen en open ligging',\n",
       "       'Beschutte ligging, in bosrijke omgeving, in centrum en vrij uitzicht',\n",
       "       'Aan rustige weg, aan water, beschutte ligging en in centrum',\n",
       "       'Aan drukke weg, aan vaarwater, aan water en beschutte ligging',\n",
       "       'Aan bosrand, aan park, aan rustige weg, buiten bebouwde kom en landelijk gelegen',\n",
       "       'Aan rustige weg, in bosrijke omgeving en landelijk gelegen',\n",
       "       'Aan rustige weg, aan water, beschutte ligging, in centrum en in woonwijk',\n",
       "       'Aan park, beschutte ligging en in woonwijk',\n",
       "       'Aan bosrand, aan rustige weg, beschutte ligging, in bosrijke omgeving, in centrum en vrij uitzicht',\n",
       "       'Aan rustige weg, buiten bebouwde kom en in bosrijke omgeving',\n",
       "       'Aan vaarwater, aan water, in centrum en zeezicht',\n",
       "       'Aan bosrand, in bosrijke omgeving, in woonwijk en vrij uitzicht',\n",
       "       'Aan vaarwater, aan water, in woonwijk, open ligging en vrij uitzicht',\n",
       "       'Aan rustige weg, aan vaarwater, landelijk gelegen, open ligging en vrij uitzicht',\n",
       "       'Aan drukke weg, beschutte ligging, in woonwijk en vrij uitzicht',\n",
       "       'Aan drukke weg, in bosrijke omgeving, landelijk gelegen en vrij uitzicht',\n",
       "       'Aan rustige weg, in centrum, landelijk gelegen, open ligging en vrij uitzicht'],\n",
       "      dtype=object)"
      ]
     },
     "execution_count": 57,
     "metadata": {},
     "output_type": "execute_result"
    }
   ],
   "source": [
    "newdf['Position'].unique()"
   ]
  },
  {
   "attachments": {},
   "cell_type": "markdown",
   "metadata": {},
   "source": [
    "Since we have missing values, we will replace the characterisitc with the mod of the position."
   ]
  },
  {
   "cell_type": "code",
   "execution_count": 58,
   "metadata": {},
   "outputs": [
    {
     "name": "stdout",
     "output_type": "stream",
     "text": [
      "0    Aan rustige weg en in woonwijk\n"
     ]
    }
   ],
   "source": [
    "Mode_Position = newdf['Position'].mode().to_string()\n",
    "print(Mode_Position)"
   ]
  },
  {
   "attachments": {},
   "cell_type": "markdown",
   "metadata": {},
   "source": [
    "Replacing empty values with the mod :On a quiet road and in a residential area."
   ]
  },
  {
   "cell_type": "code",
   "execution_count": 59,
   "metadata": {},
   "outputs": [],
   "source": [
    "newdf['Position'].fillna(Mode_Position,inplace=True)"
   ]
  },
  {
   "cell_type": "code",
   "execution_count": 60,
   "metadata": {},
   "outputs": [
    {
     "name": "stdout",
     "output_type": "stream",
     "text": [
      "0\n"
     ]
    }
   ],
   "source": [
    "print(newdf['Position'].isnull().sum())"
   ]
  },
  {
   "cell_type": "code",
   "execution_count": 62,
   "metadata": {},
   "outputs": [
    {
     "name": "stdout",
     "output_type": "stream",
     "text": [
      "452\n"
     ]
    }
   ],
   "source": [
    "unique_Positions = newdf['Position'].unique()\n",
    "Positions_to_int = {Positions: i for i, Positions in enumerate(unique_Positions)}\n",
    "\n",
    "newdf['Position'] = newdf['Position'].replace(Positions_to_int)\n",
    "print(newdf['Position'].max())"
   ]
  },
  {
   "cell_type": "code",
   "execution_count": 63,
   "metadata": {},
   "outputs": [
    {
     "data": {
      "text/plain": [
       "City              int64\n",
       "Price             Int64\n",
       "LotSize           Int64\n",
       "LivingSpace       Int64\n",
       "Build year        int64\n",
       "Build type        int64\n",
       "House type        int64\n",
       "Roof              int64\n",
       "Rooms             int64\n",
       "Toilet            int64\n",
       "Floors            int64\n",
       "Energy label      int64\n",
       "Position          int64\n",
       "Garden            int64\n",
       "EstStreetPrice    int64\n",
       "dtype: object"
      ]
     },
     "execution_count": 63,
     "metadata": {},
     "output_type": "execute_result"
    }
   ],
   "source": [
    "newdf.dtypes"
   ]
  },
  {
   "cell_type": "code",
   "execution_count": 64,
   "metadata": {},
   "outputs": [
    {
     "name": "stdout",
     "output_type": "stream",
     "text": [
      "City              0\n",
      "Price             0\n",
      "LotSize           0\n",
      "LivingSpace       0\n",
      "Build year        0\n",
      "Build type        0\n",
      "House type        0\n",
      "Roof              0\n",
      "Rooms             0\n",
      "Toilet            0\n",
      "Floors            0\n",
      "Energy label      0\n",
      "Position          0\n",
      "Garden            0\n",
      "EstStreetPrice    0\n",
      "dtype: int64\n"
     ]
    }
   ],
   "source": [
    "print(newdf.isna().sum())"
   ]
  }
 ],
 "metadata": {
  "kernelspec": {
   "display_name": "Python 3",
   "language": "python",
   "name": "python3"
  },
  "language_info": {
   "codemirror_mode": {
    "name": "ipython",
    "version": 3
   },
   "file_extension": ".py",
   "mimetype": "text/x-python",
   "name": "python",
   "nbconvert_exporter": "python",
   "pygments_lexer": "ipython3",
   "version": "3.11.3"
  },
  "orig_nbformat": 4
 },
 "nbformat": 4,
 "nbformat_minor": 2
}
