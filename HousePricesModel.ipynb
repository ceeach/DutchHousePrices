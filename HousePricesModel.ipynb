{
 "cells": [
  {
   "cell_type": "code",
   "execution_count": 24,
   "metadata": {},
   "outputs": [],
   "source": [
    "import pandas as pd\n",
    "import numpy as np"
   ]
  },
  {
   "cell_type": "code",
   "execution_count": 25,
   "metadata": {},
   "outputs": [
    {
     "name": "stdout",
     "output_type": "stream",
     "text": [
      "<class 'pandas.core.frame.DataFrame'>\n",
      "RangeIndex: 5555 entries, 0 to 5554\n",
      "Data columns (total 16 columns):\n",
      " #   Column                                Non-Null Count  Dtype \n",
      "---  ------                                --------------  ----- \n",
      " 0   Address                               5555 non-null   object\n",
      " 1   City                                  5555 non-null   object\n",
      " 2   Price                                 5555 non-null   object\n",
      " 3   Lot size (m2)                         5555 non-null   object\n",
      " 4   Living space size (m2)                5555 non-null   object\n",
      " 5   Build year                            5471 non-null   object\n",
      " 6   Build type                            5555 non-null   object\n",
      " 7   House type                            5555 non-null   object\n",
      " 8   Roof                                  5555 non-null   object\n",
      " 9   Rooms                                 5555 non-null   object\n",
      " 10  Toilet                                5555 non-null   object\n",
      " 11  Floors                                5555 non-null   object\n",
      " 12  Energy label                          5555 non-null   object\n",
      " 13  Position                              5251 non-null   object\n",
      " 14  Garden                                5497 non-null   object\n",
      " 15  Estimated neighbourhood price per m2  5386 non-null   object\n",
      "dtypes: object(16)\n",
      "memory usage: 694.5+ KB\n"
     ]
    }
   ],
   "source": [
    "df = pd.read_csv('DutchHousePrices.csv')\n",
    "df.info()"
   ]
  },
  {
   "cell_type": "code",
   "execution_count": 26,
   "metadata": {},
   "outputs": [
    {
     "data": {
      "text/html": [
       "<div>\n",
       "<style scoped>\n",
       "    .dataframe tbody tr th:only-of-type {\n",
       "        vertical-align: middle;\n",
       "    }\n",
       "\n",
       "    .dataframe tbody tr th {\n",
       "        vertical-align: top;\n",
       "    }\n",
       "\n",
       "    .dataframe thead th {\n",
       "        text-align: right;\n",
       "    }\n",
       "</style>\n",
       "<table border=\"1\" class=\"dataframe\">\n",
       "  <thead>\n",
       "    <tr style=\"text-align: right;\">\n",
       "      <th></th>\n",
       "      <th>Address</th>\n",
       "      <th>City</th>\n",
       "      <th>Price</th>\n",
       "      <th>Lot size (m2)</th>\n",
       "      <th>Living space size (m2)</th>\n",
       "      <th>Build year</th>\n",
       "      <th>Build type</th>\n",
       "      <th>House type</th>\n",
       "      <th>Roof</th>\n",
       "      <th>Rooms</th>\n",
       "      <th>Toilet</th>\n",
       "      <th>Floors</th>\n",
       "      <th>Energy label</th>\n",
       "      <th>Position</th>\n",
       "      <th>Garden</th>\n",
       "      <th>Estimated neighbourhood price per m2</th>\n",
       "    </tr>\n",
       "  </thead>\n",
       "  <tbody>\n",
       "    <tr>\n",
       "      <th>0</th>\n",
       "      <td>Bovenweg 223</td>\n",
       "      <td>Sint Pancras</td>\n",
       "      <td>€ 525.000</td>\n",
       "      <td>251 m²</td>\n",
       "      <td>135 m²</td>\n",
       "      <td>1972</td>\n",
       "      <td>Bestaande bouw</td>\n",
       "      <td>Eengezinswoning, 2-onder-1-kapwoning</td>\n",
       "      <td>Zadeldak bedekt met pannen</td>\n",
       "      <td>5 kamers (4 slaapkamers)</td>\n",
       "      <td>1 badkamer en 1 apart toilet</td>\n",
       "      <td>3 woonlagen</td>\n",
       "      <td>D</td>\n",
       "      <td>NaN</td>\n",
       "      <td>Achtertuin, voortuin en zijtuin</td>\n",
       "      <td>6.035</td>\n",
       "    </tr>\n",
       "    <tr>\n",
       "      <th>1</th>\n",
       "      <td>Julianastraat 19</td>\n",
       "      <td>Waddinxveen</td>\n",
       "      <td>€ 425.000</td>\n",
       "      <td>181 m²</td>\n",
       "      <td>109 m²</td>\n",
       "      <td>1935</td>\n",
       "      <td>Bestaande bouw</td>\n",
       "      <td>Herenhuis, geschakelde 2-onder-1-kapwoning</td>\n",
       "      <td>Schilddak bedekt met bitumineuze dakbedekking ...</td>\n",
       "      <td>4 kamers (3 slaapkamers)</td>\n",
       "      <td>1 badkamer en 1 apart toilet</td>\n",
       "      <td>3 woonlagen</td>\n",
       "      <td>E</td>\n",
       "      <td>Aan rustige weg en in woonwijk</td>\n",
       "      <td>Achtertuin en voortuin</td>\n",
       "      <td>1.435</td>\n",
       "    </tr>\n",
       "    <tr>\n",
       "      <th>2</th>\n",
       "      <td>Kuipersgilde 3</td>\n",
       "      <td>Houten</td>\n",
       "      <td>€ 575.000</td>\n",
       "      <td>198 m²</td>\n",
       "      <td>138 m²</td>\n",
       "      <td>1986</td>\n",
       "      <td>Bestaande bouw</td>\n",
       "      <td>Eengezinswoning, 2-onder-1-kapwoning</td>\n",
       "      <td>Zadeldak bedekt met pannen</td>\n",
       "      <td>5 kamers (4 slaapkamers)</td>\n",
       "      <td>1 badkamer en 1 apart toilet</td>\n",
       "      <td>3 woonlagen</td>\n",
       "      <td>B</td>\n",
       "      <td>Aan rustige weg en in woonwijk</td>\n",
       "      <td>Achtertuin</td>\n",
       "      <td>1.855</td>\n",
       "    </tr>\n",
       "    <tr>\n",
       "      <th>3</th>\n",
       "      <td>De Kamp 1 A</td>\n",
       "      <td>Pannerden</td>\n",
       "      <td>€ 259.500</td>\n",
       "      <td>231 m²</td>\n",
       "      <td>92 m²</td>\n",
       "      <td>1989</td>\n",
       "      <td>Bestaande bouw</td>\n",
       "      <td>Eengezinswoning, 2-onder-1-kapwoning</td>\n",
       "      <td>Zadeldak bedekt met pannen</td>\n",
       "      <td>5 kamers (3 slaapkamers)</td>\n",
       "      <td>1 badkamer en 2 aparte toiletten</td>\n",
       "      <td>3 woonlagen</td>\n",
       "      <td>B</td>\n",
       "      <td>Aan rustige weg en in woonwijk</td>\n",
       "      <td>Achtertuin, voortuin en zijtuin</td>\n",
       "      <td>2.19</td>\n",
       "    </tr>\n",
       "    <tr>\n",
       "      <th>4</th>\n",
       "      <td>Wildrijklaan 8</td>\n",
       "      <td>Sassenheim</td>\n",
       "      <td>€ 1.050.000</td>\n",
       "      <td>423 m²</td>\n",
       "      <td>210 m²</td>\n",
       "      <td>2000</td>\n",
       "      <td>Bestaande bouw</td>\n",
       "      <td>Eengezinswoning, 2-onder-1-kapwoning</td>\n",
       "      <td>Schilddak bedekt met pannen</td>\n",
       "      <td>6 kamers (5 slaapkamers)</td>\n",
       "      <td>2 badkamers en 2 aparte toiletten</td>\n",
       "      <td>4 woonlagen en een kelder</td>\n",
       "      <td>A</td>\n",
       "      <td>Aan rustige weg, aan water, beschutte ligging,...</td>\n",
       "      <td>Achtertuin, voortuin en zijtuin</td>\n",
       "      <td>1.34</td>\n",
       "    </tr>\n",
       "  </tbody>\n",
       "</table>\n",
       "</div>"
      ],
      "text/plain": [
       "            Address          City        Price Lot size (m2)   \n",
       "0      Bovenweg 223  Sint Pancras    € 525.000        251 m²  \\\n",
       "1  Julianastraat 19   Waddinxveen    € 425.000        181 m²   \n",
       "2    Kuipersgilde 3        Houten    € 575.000        198 m²   \n",
       "3       De Kamp 1 A     Pannerden    € 259.500        231 m²   \n",
       "4    Wildrijklaan 8    Sassenheim  € 1.050.000        423 m²   \n",
       "\n",
       "  Living space size (m2) Build year      Build type   \n",
       "0                 135 m²       1972  Bestaande bouw  \\\n",
       "1                 109 m²       1935  Bestaande bouw   \n",
       "2                 138 m²       1986  Bestaande bouw   \n",
       "3                  92 m²       1989  Bestaande bouw   \n",
       "4                 210 m²       2000  Bestaande bouw   \n",
       "\n",
       "                                   House type   \n",
       "0        Eengezinswoning, 2-onder-1-kapwoning  \\\n",
       "1  Herenhuis, geschakelde 2-onder-1-kapwoning   \n",
       "2        Eengezinswoning, 2-onder-1-kapwoning   \n",
       "3        Eengezinswoning, 2-onder-1-kapwoning   \n",
       "4        Eengezinswoning, 2-onder-1-kapwoning   \n",
       "\n",
       "                                                Roof   \n",
       "0                         Zadeldak bedekt met pannen  \\\n",
       "1  Schilddak bedekt met bitumineuze dakbedekking ...   \n",
       "2                         Zadeldak bedekt met pannen   \n",
       "3                         Zadeldak bedekt met pannen   \n",
       "4                        Schilddak bedekt met pannen   \n",
       "\n",
       "                      Rooms                             Toilet   \n",
       "0  5 kamers (4 slaapkamers)       1 badkamer en 1 apart toilet  \\\n",
       "1  4 kamers (3 slaapkamers)       1 badkamer en 1 apart toilet   \n",
       "2  5 kamers (4 slaapkamers)       1 badkamer en 1 apart toilet   \n",
       "3  5 kamers (3 slaapkamers)   1 badkamer en 2 aparte toiletten   \n",
       "4  6 kamers (5 slaapkamers)  2 badkamers en 2 aparte toiletten   \n",
       "\n",
       "                      Floors Energy label   \n",
       "0                3 woonlagen            D  \\\n",
       "1                3 woonlagen            E   \n",
       "2                3 woonlagen            B   \n",
       "3                3 woonlagen            B   \n",
       "4  4 woonlagen en een kelder            A   \n",
       "\n",
       "                                            Position   \n",
       "0                                                NaN  \\\n",
       "1                     Aan rustige weg en in woonwijk   \n",
       "2                     Aan rustige weg en in woonwijk   \n",
       "3                     Aan rustige weg en in woonwijk   \n",
       "4  Aan rustige weg, aan water, beschutte ligging,...   \n",
       "\n",
       "                            Garden Estimated neighbourhood price per m2  \n",
       "0  Achtertuin, voortuin en zijtuin                                6.035  \n",
       "1           Achtertuin en voortuin                                1.435  \n",
       "2                       Achtertuin                                1.855  \n",
       "3  Achtertuin, voortuin en zijtuin                                 2.19  \n",
       "4  Achtertuin, voortuin en zijtuin                                 1.34  "
      ]
     },
     "execution_count": 26,
     "metadata": {},
     "output_type": "execute_result"
    }
   ],
   "source": [
    "df.head()"
   ]
  },
  {
   "cell_type": "code",
   "execution_count": 27,
   "metadata": {},
   "outputs": [
    {
     "data": {
      "text/plain": [
       "Index(['Address', 'City', 'Price', 'Lot size (m2)', 'Living space size (m2)',\n",
       "       'Build year', 'Build type', 'House type', 'Roof', 'Rooms', 'Toilet',\n",
       "       'Floors', 'Energy label', 'Position', 'Garden',\n",
       "       'Estimated neighbourhood price per m2'],\n",
       "      dtype='object')"
      ]
     },
     "execution_count": 27,
     "metadata": {},
     "output_type": "execute_result"
    }
   ],
   "source": [
    "newdf = df.copy()\n",
    "newdf.columns"
   ]
  },
  {
   "cell_type": "code",
   "execution_count": 28,
   "metadata": {},
   "outputs": [
    {
     "data": {
      "text/plain": [
       "Index(['Address', 'City', 'Price', 'LotSize', 'LivingSpace', 'Build year',\n",
       "       'Build type', 'House type', 'Roof', 'Rooms', 'Toilet', 'Floors',\n",
       "       'Energy label', 'Position', 'Garden', 'EstStreetPrice'],\n",
       "      dtype='object')"
      ]
     },
     "execution_count": 28,
     "metadata": {},
     "output_type": "execute_result"
    }
   ],
   "source": [
    "newdf.rename(columns = {'Lot size (m2)':'LotSize','Living space size (m2)':'LivingSpace','Estimated neighbourhood price per m2':'EstStreetPrice'}, inplace = True)\n",
    "newdf.columns"
   ]
  },
  {
   "attachments": {},
   "cell_type": "markdown",
   "metadata": {},
   "source": [
    "Outputting the unique values "
   ]
  },
  {
   "cell_type": "code",
   "execution_count": 29,
   "metadata": {},
   "outputs": [
    {
     "name": "stdout",
     "output_type": "stream",
     "text": [
      "['3', '5', 'vliering', '4', 'woonlaag', '1', 'met', '6', 'en', '2', 'een', 'zolder', 'woonlagen', 'woonlaag,', 'kelder', 'woonlagen,']\n"
     ]
    }
   ],
   "source": [
    "unique_values_Floors = newdf['Floors'].unique()\n",
    "all_words_Floors = []\n",
    "\n",
    "for value in unique_values_Floors:\n",
    "    words = value.split(' ')\n",
    "    for word in words:\n",
    "        all_words_Floors.append(word)\n",
    "\n",
    "unique_words_Floors = list(set(all_words_Floors))\n",
    "\n",
    "print(unique_words_Floors)"
   ]
  },
  {
   "attachments": {},
   "cell_type": "markdown",
   "metadata": {},
   "source": [
    "vliering: loft<br>\n",
    "woonlaag/woonlagen: floor/floors<br>\n",
    "zolder: attic<br>\n",
    "kelder: basement<br>\n",
    "\n",
    "Assiging new values to columns to check if they help tweek better the model\n"
   ]
  },
  {
   "cell_type": "code",
   "execution_count": 30,
   "metadata": {},
   "outputs": [
    {
     "data": {
      "text/html": [
       "<div>\n",
       "<style scoped>\n",
       "    .dataframe tbody tr th:only-of-type {\n",
       "        vertical-align: middle;\n",
       "    }\n",
       "\n",
       "    .dataframe tbody tr th {\n",
       "        vertical-align: top;\n",
       "    }\n",
       "\n",
       "    .dataframe thead th {\n",
       "        text-align: right;\n",
       "    }\n",
       "</style>\n",
       "<table border=\"1\" class=\"dataframe\">\n",
       "  <thead>\n",
       "    <tr style=\"text-align: right;\">\n",
       "      <th></th>\n",
       "      <th>Address</th>\n",
       "      <th>City</th>\n",
       "      <th>Price</th>\n",
       "      <th>LotSize</th>\n",
       "      <th>LivingSpace</th>\n",
       "      <th>Build year</th>\n",
       "      <th>Build type</th>\n",
       "      <th>House type</th>\n",
       "      <th>Roof</th>\n",
       "      <th>Rooms</th>\n",
       "      <th>Toilet</th>\n",
       "      <th>Floors</th>\n",
       "      <th>Energy label</th>\n",
       "      <th>Position</th>\n",
       "      <th>Garden</th>\n",
       "      <th>EstStreetPrice</th>\n",
       "      <th>Loft</th>\n",
       "      <th>Attic</th>\n",
       "      <th>Basement</th>\n",
       "    </tr>\n",
       "  </thead>\n",
       "  <tbody>\n",
       "    <tr>\n",
       "      <th>0</th>\n",
       "      <td>Bovenweg 223</td>\n",
       "      <td>Sint Pancras</td>\n",
       "      <td>€ 525.000</td>\n",
       "      <td>251 m²</td>\n",
       "      <td>135 m²</td>\n",
       "      <td>1972</td>\n",
       "      <td>Bestaande bouw</td>\n",
       "      <td>Eengezinswoning, 2-onder-1-kapwoning</td>\n",
       "      <td>Zadeldak bedekt met pannen</td>\n",
       "      <td>5 kamers (4 slaapkamers)</td>\n",
       "      <td>1 badkamer en 1 apart toilet</td>\n",
       "      <td>3 woonlagen</td>\n",
       "      <td>D</td>\n",
       "      <td>NaN</td>\n",
       "      <td>Achtertuin, voortuin en zijtuin</td>\n",
       "      <td>6.035</td>\n",
       "      <td>0</td>\n",
       "      <td>0</td>\n",
       "      <td>0</td>\n",
       "    </tr>\n",
       "    <tr>\n",
       "      <th>1</th>\n",
       "      <td>Julianastraat 19</td>\n",
       "      <td>Waddinxveen</td>\n",
       "      <td>€ 425.000</td>\n",
       "      <td>181 m²</td>\n",
       "      <td>109 m²</td>\n",
       "      <td>1935</td>\n",
       "      <td>Bestaande bouw</td>\n",
       "      <td>Herenhuis, geschakelde 2-onder-1-kapwoning</td>\n",
       "      <td>Schilddak bedekt met bitumineuze dakbedekking ...</td>\n",
       "      <td>4 kamers (3 slaapkamers)</td>\n",
       "      <td>1 badkamer en 1 apart toilet</td>\n",
       "      <td>3 woonlagen</td>\n",
       "      <td>E</td>\n",
       "      <td>Aan rustige weg en in woonwijk</td>\n",
       "      <td>Achtertuin en voortuin</td>\n",
       "      <td>1.435</td>\n",
       "      <td>0</td>\n",
       "      <td>0</td>\n",
       "      <td>0</td>\n",
       "    </tr>\n",
       "    <tr>\n",
       "      <th>2</th>\n",
       "      <td>Kuipersgilde 3</td>\n",
       "      <td>Houten</td>\n",
       "      <td>€ 575.000</td>\n",
       "      <td>198 m²</td>\n",
       "      <td>138 m²</td>\n",
       "      <td>1986</td>\n",
       "      <td>Bestaande bouw</td>\n",
       "      <td>Eengezinswoning, 2-onder-1-kapwoning</td>\n",
       "      <td>Zadeldak bedekt met pannen</td>\n",
       "      <td>5 kamers (4 slaapkamers)</td>\n",
       "      <td>1 badkamer en 1 apart toilet</td>\n",
       "      <td>3 woonlagen</td>\n",
       "      <td>B</td>\n",
       "      <td>Aan rustige weg en in woonwijk</td>\n",
       "      <td>Achtertuin</td>\n",
       "      <td>1.855</td>\n",
       "      <td>0</td>\n",
       "      <td>0</td>\n",
       "      <td>0</td>\n",
       "    </tr>\n",
       "    <tr>\n",
       "      <th>3</th>\n",
       "      <td>De Kamp 1 A</td>\n",
       "      <td>Pannerden</td>\n",
       "      <td>€ 259.500</td>\n",
       "      <td>231 m²</td>\n",
       "      <td>92 m²</td>\n",
       "      <td>1989</td>\n",
       "      <td>Bestaande bouw</td>\n",
       "      <td>Eengezinswoning, 2-onder-1-kapwoning</td>\n",
       "      <td>Zadeldak bedekt met pannen</td>\n",
       "      <td>5 kamers (3 slaapkamers)</td>\n",
       "      <td>1 badkamer en 2 aparte toiletten</td>\n",
       "      <td>3 woonlagen</td>\n",
       "      <td>B</td>\n",
       "      <td>Aan rustige weg en in woonwijk</td>\n",
       "      <td>Achtertuin, voortuin en zijtuin</td>\n",
       "      <td>2.19</td>\n",
       "      <td>0</td>\n",
       "      <td>0</td>\n",
       "      <td>0</td>\n",
       "    </tr>\n",
       "    <tr>\n",
       "      <th>4</th>\n",
       "      <td>Wildrijklaan 8</td>\n",
       "      <td>Sassenheim</td>\n",
       "      <td>€ 1.050.000</td>\n",
       "      <td>423 m²</td>\n",
       "      <td>210 m²</td>\n",
       "      <td>2000</td>\n",
       "      <td>Bestaande bouw</td>\n",
       "      <td>Eengezinswoning, 2-onder-1-kapwoning</td>\n",
       "      <td>Schilddak bedekt met pannen</td>\n",
       "      <td>6 kamers (5 slaapkamers)</td>\n",
       "      <td>2 badkamers en 2 aparte toiletten</td>\n",
       "      <td>4 woonlagen en een kelder</td>\n",
       "      <td>A</td>\n",
       "      <td>Aan rustige weg, aan water, beschutte ligging,...</td>\n",
       "      <td>Achtertuin, voortuin en zijtuin</td>\n",
       "      <td>1.34</td>\n",
       "      <td>0</td>\n",
       "      <td>0</td>\n",
       "      <td>0</td>\n",
       "    </tr>\n",
       "  </tbody>\n",
       "</table>\n",
       "</div>"
      ],
      "text/plain": [
       "            Address          City        Price LotSize LivingSpace Build year   \n",
       "0      Bovenweg 223  Sint Pancras    € 525.000  251 m²      135 m²       1972  \\\n",
       "1  Julianastraat 19   Waddinxveen    € 425.000  181 m²      109 m²       1935   \n",
       "2    Kuipersgilde 3        Houten    € 575.000  198 m²      138 m²       1986   \n",
       "3       De Kamp 1 A     Pannerden    € 259.500  231 m²       92 m²       1989   \n",
       "4    Wildrijklaan 8    Sassenheim  € 1.050.000  423 m²      210 m²       2000   \n",
       "\n",
       "       Build type                                  House type   \n",
       "0  Bestaande bouw        Eengezinswoning, 2-onder-1-kapwoning  \\\n",
       "1  Bestaande bouw  Herenhuis, geschakelde 2-onder-1-kapwoning   \n",
       "2  Bestaande bouw        Eengezinswoning, 2-onder-1-kapwoning   \n",
       "3  Bestaande bouw        Eengezinswoning, 2-onder-1-kapwoning   \n",
       "4  Bestaande bouw        Eengezinswoning, 2-onder-1-kapwoning   \n",
       "\n",
       "                                                Roof   \n",
       "0                         Zadeldak bedekt met pannen  \\\n",
       "1  Schilddak bedekt met bitumineuze dakbedekking ...   \n",
       "2                         Zadeldak bedekt met pannen   \n",
       "3                         Zadeldak bedekt met pannen   \n",
       "4                        Schilddak bedekt met pannen   \n",
       "\n",
       "                      Rooms                             Toilet   \n",
       "0  5 kamers (4 slaapkamers)       1 badkamer en 1 apart toilet  \\\n",
       "1  4 kamers (3 slaapkamers)       1 badkamer en 1 apart toilet   \n",
       "2  5 kamers (4 slaapkamers)       1 badkamer en 1 apart toilet   \n",
       "3  5 kamers (3 slaapkamers)   1 badkamer en 2 aparte toiletten   \n",
       "4  6 kamers (5 slaapkamers)  2 badkamers en 2 aparte toiletten   \n",
       "\n",
       "                      Floors Energy label   \n",
       "0                3 woonlagen            D  \\\n",
       "1                3 woonlagen            E   \n",
       "2                3 woonlagen            B   \n",
       "3                3 woonlagen            B   \n",
       "4  4 woonlagen en een kelder            A   \n",
       "\n",
       "                                            Position   \n",
       "0                                                NaN  \\\n",
       "1                     Aan rustige weg en in woonwijk   \n",
       "2                     Aan rustige weg en in woonwijk   \n",
       "3                     Aan rustige weg en in woonwijk   \n",
       "4  Aan rustige weg, aan water, beschutte ligging,...   \n",
       "\n",
       "                            Garden EstStreetPrice  Loft  Attic  Basement  \n",
       "0  Achtertuin, voortuin en zijtuin          6.035     0      0         0  \n",
       "1           Achtertuin en voortuin          1.435     0      0         0  \n",
       "2                       Achtertuin          1.855     0      0         0  \n",
       "3  Achtertuin, voortuin en zijtuin           2.19     0      0         0  \n",
       "4  Achtertuin, voortuin en zijtuin           1.34     0      0         0  "
      ]
     },
     "execution_count": 30,
     "metadata": {},
     "output_type": "execute_result"
    }
   ],
   "source": [
    "newdf = newdf.assign(Loft=0, Attic=0, Basement=0)\n",
    "newdf.head()"
   ]
  },
  {
   "cell_type": "code",
   "execution_count": 31,
   "metadata": {},
   "outputs": [
    {
     "name": "stdout",
     "output_type": "stream",
     "text": [
      "['Bestaande bouw' 'Nieuwbouw']\n"
     ]
    }
   ],
   "source": [
    "print(newdf['Build type'].unique())"
   ]
  },
  {
   "attachments": {},
   "cell_type": "markdown",
   "metadata": {},
   "source": [
    "Bestaande bouw: Existing building <br>\n",
    "Nieuwbouw: New construction"
   ]
  },
  {
   "attachments": {},
   "cell_type": "markdown",
   "metadata": {},
   "source": [
    "Replacing nominal values by numerical ones"
   ]
  },
  {
   "cell_type": "code",
   "execution_count": 32,
   "metadata": {},
   "outputs": [
    {
     "data": {
      "text/plain": [
       "Address           object\n",
       "City              object\n",
       "Price             object\n",
       "LotSize           object\n",
       "LivingSpace       object\n",
       "Build year        object\n",
       "Build type         int64\n",
       "House type        object\n",
       "Roof              object\n",
       "Rooms             object\n",
       "Toilet            object\n",
       "Floors            object\n",
       "Energy label      object\n",
       "Position          object\n",
       "Garden            object\n",
       "EstStreetPrice    object\n",
       "Loft               int64\n",
       "Attic              int64\n",
       "Basement           int64\n",
       "dtype: object"
      ]
     },
     "execution_count": 32,
     "metadata": {},
     "output_type": "execute_result"
    }
   ],
   "source": [
    "newdf['Build type'] = newdf['Build type'].replace({'Bestaande bouw': 0, 'Nieuwbouw': 1})\n",
    "newdf.dtypes"
   ]
  },
  {
   "cell_type": "code",
   "execution_count": 33,
   "metadata": {},
   "outputs": [
    {
     "name": "stdout",
     "output_type": "stream",
     "text": [
      "Address                                   0\n",
      "City                                      0\n",
      "Price                                     0\n",
      "Lot size (m2)                             0\n",
      "Living space size (m2)                    0\n",
      "Build year                               84\n",
      "Build type                                0\n",
      "House type                                0\n",
      "Roof                                      0\n",
      "Rooms                                     0\n",
      "Toilet                                    0\n",
      "Floors                                    0\n",
      "Energy label                              0\n",
      "Position                                304\n",
      "Garden                                   58\n",
      "Estimated neighbourhood price per m2    169\n",
      "dtype: int64\n"
     ]
    }
   ],
   "source": [
    "print(df.isna().sum())"
   ]
  },
  {
   "attachments": {},
   "cell_type": "markdown",
   "metadata": {},
   "source": [
    "Replacing the nan, before and after by empty in \"Build Year\" Column and casting the values to float to get the mean."
   ]
  },
  {
   "cell_type": "code",
   "execution_count": 34,
   "metadata": {},
   "outputs": [],
   "source": [
    "newdf['Build year'] = newdf['Build year'].str.replace(r'[^\\d]', '', regex=True)\n",
    "newdf['Build year'] = newdf['Build year'].astype(float)"
   ]
  },
  {
   "attachments": {},
   "cell_type": "markdown",
   "metadata": {},
   "source": [
    "Replacing empty values with the mean and then casting it back to integer."
   ]
  },
  {
   "cell_type": "code",
   "execution_count": 35,
   "metadata": {},
   "outputs": [],
   "source": [
    "newdf['Build year'] = newdf['Build year'].fillna(newdf['Build year'].mean())\n",
    "newdf['Build year'] = newdf['Build year'].astype('int64')"
   ]
  },
  {
   "cell_type": "code",
   "execution_count": 36,
   "metadata": {},
   "outputs": [
    {
     "data": {
      "text/plain": [
       "Address           object\n",
       "City              object\n",
       "Price             object\n",
       "LotSize           object\n",
       "LivingSpace       object\n",
       "Build year         int64\n",
       "Build type         int64\n",
       "House type        object\n",
       "Roof              object\n",
       "Rooms             object\n",
       "Toilet            object\n",
       "Floors            object\n",
       "Energy label      object\n",
       "Position          object\n",
       "Garden            object\n",
       "EstStreetPrice    object\n",
       "Loft               int64\n",
       "Attic              int64\n",
       "Basement           int64\n",
       "dtype: object"
      ]
     },
     "execution_count": 36,
     "metadata": {},
     "output_type": "execute_result"
    }
   ],
   "source": [
    "newdf.dtypes"
   ]
  },
  {
   "cell_type": "code",
   "execution_count": 37,
   "metadata": {},
   "outputs": [
    {
     "data": {
      "text/plain": [
       "array([1500, 1590, 1600, 1610, 1625, 1630, 1642, 1643, 1650, 1654, 1680,\n",
       "       1683, 1692, 1700, 1701, 1706, 1716, 1722, 1729, 1737, 1740, 1750,\n",
       "       1751, 1776, 1787, 1790, 1792, 1793, 1795, 1800, 1803, 1813, 1817,\n",
       "       1825, 1830, 1835, 1840, 1845, 1850, 1854, 1859, 1860, 1861, 1864,\n",
       "       1866, 1869, 1870, 1871, 1872, 1874, 1875, 1876, 1877, 1878, 1880,\n",
       "       1881, 1882, 1883, 1884, 1885, 1886, 1887, 1888, 1889, 1890, 1891,\n",
       "       1892, 1893, 1895, 1896, 1897, 1898, 1899, 1900, 1901, 1902, 1903,\n",
       "       1904, 1905, 1906, 1907, 1908, 1909, 1910, 1911, 1912, 1913, 1914,\n",
       "       1915, 1916, 1917, 1918, 1919, 1920, 1921, 1922, 1923, 1924, 1925,\n",
       "       1926, 1927, 1928, 1929, 1930, 1931, 1932, 1933, 1934, 1935, 1936,\n",
       "       1937, 1938, 1939, 1940, 1941, 1942, 1943, 1944, 1945, 1946, 1947,\n",
       "       1948, 1949, 1950, 1951, 1952, 1953, 1954, 1955, 1956, 1957, 1958,\n",
       "       1959, 1960, 1961, 1962, 1963, 1964, 1965, 1966, 1967, 1968, 1969,\n",
       "       1970, 1971, 1972, 1973, 1974, 1975, 1976, 1977, 1978, 1979, 1980,\n",
       "       1981, 1982, 1983, 1984, 1985, 1986, 1987, 1988, 1989, 1990, 1991,\n",
       "       1992, 1993, 1994, 1995, 1996, 1997, 1998, 1999, 2000, 2001, 2002,\n",
       "       2003, 2004, 2005, 2006, 2007, 2008, 2009, 2010, 2011, 2012, 2013,\n",
       "       2014, 2015, 2016, 2017, 2018, 2019, 2020, 2021, 2022], dtype=int64)"
      ]
     },
     "execution_count": 37,
     "metadata": {},
     "output_type": "execute_result"
    }
   ],
   "source": [
    "BuildYears = newdf['Build year'].unique()\n",
    "BuildYears.sort()\n",
    "BuildYears"
   ]
  },
  {
   "cell_type": "code",
   "execution_count": 38,
   "metadata": {},
   "outputs": [],
   "source": [
    "unique_Prices = newdf['Price'].unique()"
   ]
  },
  {
   "attachments": {},
   "cell_type": "markdown",
   "metadata": {},
   "source": [
    "Removing the text that says prices available upon request from."
   ]
  },
  {
   "cell_type": "code",
   "execution_count": 39,
   "metadata": {},
   "outputs": [],
   "source": [
    "newdf['Price'] = newdf['Price'].str.replace(r'[^\\d]', '', regex=True)\n",
    "newdf['Price'].replace('', np.nan, inplace=True)"
   ]
  },
  {
   "attachments": {},
   "cell_type": "markdown",
   "metadata": {},
   "source": [
    "Dropping the empty values. Ended up with 5547 rows."
   ]
  },
  {
   "cell_type": "code",
   "execution_count": 40,
   "metadata": {},
   "outputs": [
    {
     "data": {
      "text/plain": [
       "5547"
      ]
     },
     "execution_count": 40,
     "metadata": {},
     "output_type": "execute_result"
    }
   ],
   "source": [
    "newdf.dropna(subset=['Price'], inplace=True)\n",
    "newdf['Price']=newdf['Price'].astype('Int64')\n",
    "newdf['Price'].count()"
   ]
  },
  {
   "cell_type": "code",
   "execution_count": 41,
   "metadata": {},
   "outputs": [
    {
     "data": {
      "text/plain": [
       "Address           object\n",
       "City              object\n",
       "Price              Int64\n",
       "LotSize           object\n",
       "LivingSpace       object\n",
       "Build year         int64\n",
       "Build type         int64\n",
       "House type        object\n",
       "Roof              object\n",
       "Rooms             object\n",
       "Toilet            object\n",
       "Floors            object\n",
       "Energy label      object\n",
       "Position          object\n",
       "Garden            object\n",
       "EstStreetPrice    object\n",
       "Loft               int64\n",
       "Attic              int64\n",
       "Basement           int64\n",
       "dtype: object"
      ]
     },
     "execution_count": 41,
     "metadata": {},
     "output_type": "execute_result"
    }
   ],
   "source": [
    "newdf.dtypes"
   ]
  },
  {
   "attachments": {},
   "cell_type": "markdown",
   "metadata": {},
   "source": [
    "Changing type of LotSize and LivingSpace"
   ]
  },
  {
   "cell_type": "code",
   "execution_count": 42,
   "metadata": {},
   "outputs": [],
   "source": [
    "newdf[['LotSize','LivingSpace']] = newdf[['LotSize','LivingSpace']].apply(lambda x: x.str.replace(r'[^\\d]', '', regex=True))\n",
    "newdf['LotSize']=newdf['LotSize'].astype('Int64')\n",
    "newdf['LivingSpace']=newdf['LivingSpace'].astype('Int64')"
   ]
  },
  {
   "cell_type": "code",
   "execution_count": 43,
   "metadata": {},
   "outputs": [
    {
     "data": {
      "text/plain": [
       "Address           object\n",
       "City              object\n",
       "Price              Int64\n",
       "LotSize            Int64\n",
       "LivingSpace        Int64\n",
       "Build year         int64\n",
       "Build type         int64\n",
       "House type        object\n",
       "Roof              object\n",
       "Rooms             object\n",
       "Toilet            object\n",
       "Floors            object\n",
       "Energy label      object\n",
       "Position          object\n",
       "Garden            object\n",
       "EstStreetPrice    object\n",
       "Loft               int64\n",
       "Attic              int64\n",
       "Basement           int64\n",
       "dtype: object"
      ]
     },
     "execution_count": 43,
     "metadata": {},
     "output_type": "execute_result"
    }
   ],
   "source": [
    "newdf.dtypes"
   ]
  },
  {
   "attachments": {},
   "cell_type": "markdown",
   "metadata": {},
   "source": [
    "Removing Text from Estimate Street Price:"
   ]
  },
  {
   "cell_type": "code",
   "execution_count": 44,
   "metadata": {},
   "outputs": [],
   "source": [
    "newdf['EstStreetPrice'] = newdf['EstStreetPrice'].str.replace(r'[^\\d]', '', regex=True)\n",
    "newdf['EstStreetPrice'] = newdf['EstStreetPrice'].astype(float)"
   ]
  },
  {
   "attachments": {},
   "cell_type": "markdown",
   "metadata": {},
   "source": [
    "Filling Empty Values with mean in Estimate Street Price:"
   ]
  },
  {
   "cell_type": "code",
   "execution_count": 45,
   "metadata": {},
   "outputs": [],
   "source": [
    "newdf['EstStreetPrice'] = newdf['EstStreetPrice'].fillna(newdf['EstStreetPrice'].mean())\n",
    "newdf['EstStreetPrice'] = newdf['EstStreetPrice'].astype('int64')"
   ]
  },
  {
   "cell_type": "code",
   "execution_count": 46,
   "metadata": {},
   "outputs": [
    {
     "data": {
      "text/plain": [
       "Address           object\n",
       "City              object\n",
       "Price              Int64\n",
       "LotSize            Int64\n",
       "LivingSpace        Int64\n",
       "Build year         int64\n",
       "Build type         int64\n",
       "House type        object\n",
       "Roof              object\n",
       "Rooms             object\n",
       "Toilet            object\n",
       "Floors            object\n",
       "Energy label      object\n",
       "Position          object\n",
       "Garden            object\n",
       "EstStreetPrice     int64\n",
       "Loft               int64\n",
       "Attic              int64\n",
       "Basement           int64\n",
       "dtype: object"
      ]
     },
     "execution_count": 46,
     "metadata": {},
     "output_type": "execute_result"
    }
   ],
   "source": [
    "newdf.dtypes"
   ]
  },
  {
   "attachments": {},
   "cell_type": "markdown",
   "metadata": {},
   "source": [
    "Since address does not have an impact on price since every value is unique or mostly unique, we will dis "
   ]
  }
 ],
 "metadata": {
  "kernelspec": {
   "display_name": "Python 3",
   "language": "python",
   "name": "python3"
  },
  "language_info": {
   "codemirror_mode": {
    "name": "ipython",
    "version": 3
   },
   "file_extension": ".py",
   "mimetype": "text/x-python",
   "name": "python",
   "nbconvert_exporter": "python",
   "pygments_lexer": "ipython3",
   "version": "3.11.3"
  },
  "orig_nbformat": 4
 },
 "nbformat": 4,
 "nbformat_minor": 2
}
